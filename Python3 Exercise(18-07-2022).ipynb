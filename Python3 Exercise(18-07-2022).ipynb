{
 "cells": [
  {
   "cell_type": "code",
   "execution_count": 2,
   "id": "935ed5a3",
   "metadata": {},
   "outputs": [
    {
     "name": "stdout",
     "output_type": "stream",
     "text": [
      "[[1, 4], [1, 5], [1, 6], [2, 4], [2, 5], [2, 6], [3, 4], [3, 5], [3, 6]]\n"
     ]
    },
    {
     "data": {
      "text/plain": [
       "[[1, 4], [1, 5], [1, 6], [2, 4], [2, 5], [2, 6], [3, 4], [3, 5], [3, 6]]"
      ]
     },
     "execution_count": 2,
     "metadata": {},
     "output_type": "execute_result"
    }
   ],
   "source": [
    "results = []\n",
    "for x in [1, 2, 3]:\n",
    "     for y in [4, 5, 6]:\n",
    "         results.append([x, y])\n",
    " \n",
    "print(results)\n",
    "[[1, 4], [1, 5], [1, 6], [2, 4], [2, 5], [2, 6], [3, 4], [3, 5], [3, 6]]"
   ]
  },
  {
   "cell_type": "code",
   "execution_count": 7,
   "id": "872d8b64",
   "metadata": {},
   "outputs": [
    {
     "name": "stdout",
     "output_type": "stream",
     "text": [
      "[[1, 4, 7], [1, 4, 8], [1, 4, 9], [1, 5, 7], [1, 5, 8], [1, 5, 9], [1, 6, 7], [1, 6, 8], [1, 6, 9], [2, 4, 7], [2, 4, 8], [2, 4, 9], [2, 5, 7], [2, 5, 8], [2, 5, 9], [2, 6, 7], [2, 6, 8], [2, 6, 9], [3, 4, 7], [3, 4, 8], [3, 4, 9], [3, 5, 7], [3, 5, 8], [3, 5, 9], [3, 6, 7], [3, 6, 8], [3, 6, 9]]\n"
     ]
    }
   ],
   "source": [
    "results = []\n",
    "for x in [1, 2, 3]:\n",
    "     for y in [4, 5, 6]:\n",
    "            for z in [7, 8, 9]:\n",
    "                results.append([x, y, z])\n",
    " \n",
    "print(results)"
   ]
  },
  {
   "cell_type": "code",
   "execution_count": 3,
   "id": "ab58b351",
   "metadata": {},
   "outputs": [
    {
     "data": {
      "text/plain": [
       "[0, 3, 6, 9]"
      ]
     },
     "execution_count": 3,
     "metadata": {},
     "output_type": "execute_result"
    }
   ],
   "source": [
    "ListOfThreeMultiples = [x for x in range(10) if x % 3 == 0] # Multiples of 3 below 10\n",
    "ListOfThreeMultiples\n",
    "[0, 3, 6, 9]"
   ]
  },
  {
   "cell_type": "code",
   "execution_count": 4,
   "id": "76e99164",
   "metadata": {},
   "outputs": [
    {
     "data": {
      "text/plain": [
       "[0, 3, 6, 9]"
      ]
     },
     "execution_count": 4,
     "metadata": {},
     "output_type": "execute_result"
    }
   ],
   "source": [
    "ListOfThreeMultiples = [x for x in range(10) if x % 3 == 0] # Multiples of 3 below 10\n",
    "ListOfThreeMultiples"
   ]
  },
  {
   "cell_type": "code",
   "execution_count": 8,
   "id": "743bac5d",
   "metadata": {},
   "outputs": [
    {
     "name": "stdout",
     "output_type": "stream",
     "text": [
      "[[0, 0, 0], [0, 0, 1], [0, 0, 2], [0, 1, 0], [0, 1, 1], [0, 1, 2], [0, 2, 0], [0, 2, 1], [0, 2, 2], [1, 0, 0], [1, 0, 1], [1, 0, 2], [1, 1, 0], [1, 1, 1], [1, 1, 2], [1, 2, 0], [1, 2, 1], [1, 2, 2], [2, 0, 0], [2, 0, 1], [2, 0, 2], [2, 1, 0], [2, 1, 1], [2, 1, 2], [2, 2, 0], [2, 2, 1], [2, 2, 2]]\n"
     ]
    }
   ],
   "source": [
    "results = []\n",
    "for x in [0, 1, 2]:\n",
    "     for y in [0, 1, 2]:\n",
    "            for z in [0, 1, 2]:\n",
    "                results.append([x, y, z])\n",
    " \n",
    "print(results)"
   ]
  },
  {
   "cell_type": "code",
   "execution_count": 23,
   "id": "6e3aac97",
   "metadata": {},
   "outputs": [
    {
     "name": "stdout",
     "output_type": "stream",
     "text": [
      "1\n",
      "1\n",
      "1\n",
      "1\n",
      "[[0, 0, 0], [0, 0, 1], [0, 0, 2], [0, 1, 0], [0, 1, 1], [0, 1, 2], [0, 2, 0], [0, 2, 1], [0, 2, 2], [1, 0, 0], [1, 0, 1], [1, 0, 2], [1, 1, 0], [1, 1, 1], [1, 1, 2], [1, 2, 0], [1, 2, 1], [1, 2, 2], [2, 0, 0], [2, 0, 1], [2, 0, 2], [2, 1, 0], [2, 1, 1], [2, 1, 2], [2, 2, 0], [2, 2, 1], [2, 2, 2]]\n"
     ]
    }
   ],
   "source": [
    "if __name__ == '__main__':\n",
    "    x = int(input())\n",
    "    y = int(input())\n",
    "    z = int(input())\n",
    "    n = int(input())\n",
    "   \n",
    "results = []\n",
    "sum = x + y + z\n",
    "if sum == n:\n",
    "    for x in [0, 1, 2]:\n",
    "        for y in [0, 1, 2]:\n",
    "                for z in [0, 1, 2]:           \n",
    "                   \n",
    "                    results.append([x, y, z])\n",
    "elif sum != n:\n",
    "    for x in [0, 1, 2]:\n",
    "        for y in [0, 1, 2]:\n",
    "                for z in [0, 1, 2]:           \n",
    "                   \n",
    "                    results.append([x, y, z])\n",
    " \n",
    "print(results)"
   ]
  },
  {
   "cell_type": "code",
   "execution_count": 25,
   "id": "c36f1250",
   "metadata": {},
   "outputs": [
    {
     "name": "stdout",
     "output_type": "stream",
     "text": [
      "1\n",
      "1\n",
      "1\n",
      "1\n",
      "[[0, 0, 0], [0, 1, 1], [1, 0, 1], [1, 1, 0], [1, 1, 1]]\n"
     ]
    }
   ],
   "source": [
    "if __name__ == '__main__':\n",
    "    x = int(input())\n",
    "    y = int(input())\n",
    "    z = int(input())\n",
    "    n = int(input())\n",
    "    \n",
    "listijk = []\n",
    "for i in range(x + 1):\n",
    "    for j in range (y + 1):\n",
    "        for k in range (z + 1):\n",
    "            if i + j + k != n: #before printing the result, it will exclude the output which 'i' + 'j' + 'k' is the same as 'n'.\n",
    "                listijk.append([i,j,k])\n",
    "print(listijk)"
   ]
  },
  {
   "cell_type": "code",
   "execution_count": 64,
   "id": "0349d617",
   "metadata": {},
   "outputs": [
    {
     "name": "stdout",
     "output_type": "stream",
     "text": [
      "5\n",
      "6\n"
     ]
    },
    {
     "ename": "TypeError",
     "evalue": "'map' object cannot be interpreted as an integer",
     "output_type": "error",
     "traceback": [
      "\u001b[1;31m---------------------------------------------------------------------------\u001b[0m",
      "\u001b[1;31mTypeError\u001b[0m                                 Traceback (most recent call last)",
      "Input \u001b[1;32mIn [64]\u001b[0m, in \u001b[0;36m<cell line: 3>\u001b[1;34m()\u001b[0m\n\u001b[0;32m      1\u001b[0m \u001b[38;5;28mmax\u001b[39m \u001b[38;5;241m=\u001b[39m max2 \u001b[38;5;241m=\u001b[39m \u001b[38;5;241m-\u001b[39m\u001b[38;5;241m100\u001b[39m \u001b[38;5;241m-\u001b[39m \u001b[38;5;28mint\u001b[39m(\u001b[38;5;28minput\u001b[39m())\n\u001b[0;32m      2\u001b[0m nums \u001b[38;5;241m=\u001b[39m \u001b[38;5;28mmap\u001b[39m(\u001b[38;5;28mint\u001b[39m,\u001b[38;5;28minput\u001b[39m()\u001b[38;5;241m.\u001b[39msplit(\u001b[38;5;124m'\u001b[39m\u001b[38;5;124m \u001b[39m\u001b[38;5;124m'\u001b[39m))\n\u001b[1;32m----> 3\u001b[0m \u001b[38;5;28;01mfor\u001b[39;00m i \u001b[38;5;129;01min\u001b[39;00m \u001b[38;5;28;43mrange\u001b[39;49m\u001b[43m(\u001b[49m\u001b[43mnums\u001b[49m\u001b[43m)\u001b[49m:\n\u001b[0;32m      4\u001b[0m     \u001b[38;5;28;01mif\u001b[39;00m nums[i] \u001b[38;5;241m>\u001b[39m max2:\n\u001b[0;32m      5\u001b[0m         \u001b[38;5;28;01mif\u001b[39;00m nums[i] \u001b[38;5;241m>\u001b[39m \u001b[38;5;28mmax\u001b[39m:\n",
      "\u001b[1;31mTypeError\u001b[0m: 'map' object cannot be interpreted as an integer"
     ]
    }
   ],
   "source": [
    "max = max2 = -100 - int(input())\n",
    "nums = map(int,input().split(' '))\n",
    "for i in range(nums):\n",
    "    if nums[i] > max2:\n",
    "        if nums[i] > max:\n",
    "            max,max2 = nums[i],max\n",
    "        elif nums[i] < max:\n",
    "            max2 = nums[i]\n",
    "print(max2)"
   ]
  },
  {
   "cell_type": "code",
   "execution_count": 62,
   "id": "5c798b83",
   "metadata": {},
   "outputs": [
    {
     "name": "stdout",
     "output_type": "stream",
     "text": [
      "5\n",
      "6\n",
      "-101\n"
     ]
    }
   ],
   "source": [
    "input()\n",
    "max = max2 = -101\n",
    "for n in map(int,input().split()):\n",
    "    if n > max2:\n",
    "        if n > max:\n",
    "            max,max2 = n,max\n",
    "        elif n < max:\n",
    "            max2 = n\n",
    "print(max2)"
   ]
  },
  {
   "cell_type": "code",
   "execution_count": 28,
   "id": "ffb7e0c7",
   "metadata": {},
   "outputs": [
    {
     "name": "stdout",
     "output_type": "stream",
     "text": [
      "5\n",
      "6\n",
      "-100\n"
     ]
    }
   ],
   "source": [
    "n = int(input())\n",
    "a = [int(x) for x in input().split()]\n",
    "largest = secondlargest = -100\n",
    "for x in a:\n",
    "    if x > largest:\n",
    "        tmp = largest\n",
    "        largest = x\n",
    "        secondlargest = tmp\n",
    "    elif x > secondlargest and x != largest:\n",
    "        secondlargest = x\n",
    "print(secondlargest)"
   ]
  },
  {
   "cell_type": "code",
   "execution_count": 33,
   "id": "503bc5f8",
   "metadata": {},
   "outputs": [
    {
     "name": "stdout",
     "output_type": "stream",
     "text": [
      "5\n",
      "6\n"
     ]
    },
    {
     "ename": "NameError",
     "evalue": "name 'smax' is not defined",
     "output_type": "error",
     "traceback": [
      "\u001b[1;31m---------------------------------------------------------------------------\u001b[0m",
      "\u001b[1;31mNameError\u001b[0m                                 Traceback (most recent call last)",
      "Input \u001b[1;32mIn [33]\u001b[0m, in \u001b[0;36m<cell line: 23>\u001b[1;34m()\u001b[0m\n\u001b[0;32m     20\u001b[0m                smax \u001b[38;5;241m=\u001b[39m i\n\u001b[0;32m     21\u001b[0m    \u001b[38;5;66;03m#print('result:')\u001b[39;00m\n\u001b[0;32m     22\u001b[0m    \u001b[38;5;66;03m#print(max)        \u001b[39;00m\n\u001b[1;32m---> 23\u001b[0m \u001b[38;5;28mprint\u001b[39m(\u001b[43msmax\u001b[49m)\n",
      "\u001b[1;31mNameError\u001b[0m: name 'smax' is not defined"
     ]
    }
   ],
   "source": [
    " n = int(input())\n",
    "arr = list(map(int, input().split()))\n",
    "max = arr[0]\n",
    "\n",
    "smax_ini = 0 #check initialisation\n",
    "if len(arr) > 2:\n",
    "    for i in arr[1:]:\n",
    "            #print(i)\n",
    "        if i > max:\n",
    "            smax = max\n",
    "            max = i\n",
    "        elif i == max:\n",
    "            pass\n",
    "        elif i < max:\n",
    "            if smax_ini == 0:\n",
    "                smax = i\n",
    "                smax_ini = 1\n",
    "        elif smax_ini == 1:\n",
    "            if i > smax:\n",
    "                smax = i\n",
    "    #print('result:')\n",
    "    #print(max)        \n",
    "print(smax)"
   ]
  },
  {
   "cell_type": "code",
   "execution_count": 34,
   "id": "2776faa0",
   "metadata": {},
   "outputs": [
    {
     "name": "stdout",
     "output_type": "stream",
     "text": [
      "5\n",
      "6\n"
     ]
    },
    {
     "ename": "IndexError",
     "evalue": "list index out of range",
     "output_type": "error",
     "traceback": [
      "\u001b[1;31m---------------------------------------------------------------------------\u001b[0m",
      "\u001b[1;31mIndexError\u001b[0m                                Traceback (most recent call last)",
      "Input \u001b[1;32mIn [34]\u001b[0m, in \u001b[0;36m<cell line: 1>\u001b[1;34m()\u001b[0m\n\u001b[0;32m      2\u001b[0m n \u001b[38;5;241m=\u001b[39m \u001b[38;5;28mint\u001b[39m(\u001b[38;5;28minput\u001b[39m())\n\u001b[0;32m      3\u001b[0m arr \u001b[38;5;241m=\u001b[39m \u001b[38;5;28mmap\u001b[39m(\u001b[38;5;28mint\u001b[39m, \u001b[38;5;28minput\u001b[39m()\u001b[38;5;241m.\u001b[39msplit())\n\u001b[1;32m----> 4\u001b[0m \u001b[38;5;28mprint\u001b[39m (\u001b[38;5;28;43msorted\u001b[39;49m\u001b[43m(\u001b[49m\u001b[38;5;28;43mset\u001b[39;49m\u001b[43m(\u001b[49m\u001b[43marr\u001b[49m\u001b[43m)\u001b[49m\u001b[43m)\u001b[49m\u001b[43m[\u001b[49m\u001b[38;5;241;43m-\u001b[39;49m\u001b[38;5;241;43m2\u001b[39;49m\u001b[43m]\u001b[49m)\n",
      "\u001b[1;31mIndexError\u001b[0m: list index out of range"
     ]
    }
   ],
   "source": [
    "if __name__ == '__main__':\n",
    "    n = int(input())\n",
    "    arr = map(int, input().split())\n",
    "    print (sorted(set(arr))[-2])"
   ]
  },
  {
   "cell_type": "code",
   "execution_count": 35,
   "id": "059eff17",
   "metadata": {},
   "outputs": [
    {
     "name": "stdout",
     "output_type": "stream",
     "text": [
      "5\n",
      "6\n"
     ]
    },
    {
     "ename": "IndexError",
     "evalue": "list index out of range",
     "output_type": "error",
     "traceback": [
      "\u001b[1;31m---------------------------------------------------------------------------\u001b[0m",
      "\u001b[1;31mIndexError\u001b[0m                                Traceback (most recent call last)",
      "Input \u001b[1;32mIn [35]\u001b[0m, in \u001b[0;36m<cell line: 3>\u001b[1;34m()\u001b[0m\n\u001b[0;32m      1\u001b[0m n \u001b[38;5;241m=\u001b[39m \u001b[38;5;28mint\u001b[39m(\u001b[38;5;28minput\u001b[39m())\n\u001b[0;32m      2\u001b[0m a \u001b[38;5;241m=\u001b[39m \u001b[38;5;28msorted\u001b[39m(\u001b[38;5;28mmap\u001b[39m(\u001b[38;5;28mint\u001b[39m, \u001b[38;5;28minput\u001b[39m()\u001b[38;5;241m.\u001b[39msplit()), reverse\u001b[38;5;241m=\u001b[39m\u001b[38;5;28;01mTrue\u001b[39;00m)\n\u001b[1;32m----> 3\u001b[0m \u001b[38;5;28mprint\u001b[39m(\u001b[43ma\u001b[49m\u001b[43m[\u001b[49m\u001b[43ma\u001b[49m\u001b[38;5;241;43m.\u001b[39;49m\u001b[43mcount\u001b[49m\u001b[43m(\u001b[49m\u001b[43ma\u001b[49m\u001b[43m[\u001b[49m\u001b[38;5;241;43m0\u001b[39;49m\u001b[43m]\u001b[49m\u001b[43m)\u001b[49m\u001b[43m]\u001b[49m)\n",
      "\u001b[1;31mIndexError\u001b[0m: list index out of range"
     ]
    }
   ],
   "source": [
    "n = int(input())\n",
    "a = sorted(map(int, input().split()), reverse=True)\n",
    "print(a[a.count(a[0])])"
   ]
  },
  {
   "cell_type": "code",
   "execution_count": 39,
   "id": "7ed57366",
   "metadata": {},
   "outputs": [
    {
     "name": "stdout",
     "output_type": "stream",
     "text": [
      "5\n",
      "6\n"
     ]
    },
    {
     "ename": "IndexError",
     "evalue": "list index out of range",
     "output_type": "error",
     "traceback": [
      "\u001b[1;31m---------------------------------------------------------------------------\u001b[0m",
      "\u001b[1;31mIndexError\u001b[0m                                Traceback (most recent call last)",
      "Input \u001b[1;32mIn [39]\u001b[0m, in \u001b[0;36m<cell line: 4>\u001b[1;34m()\u001b[0m\n\u001b[0;32m      2\u001b[0m  n \u001b[38;5;241m=\u001b[39m \u001b[38;5;28mint\u001b[39m(\u001b[38;5;28minput\u001b[39m())\n\u001b[0;32m      3\u001b[0m arr \u001b[38;5;241m=\u001b[39m \u001b[38;5;28mlist\u001b[39m(\u001b[38;5;28mset\u001b[39m(\u001b[38;5;28msorted\u001b[39m(\u001b[38;5;28mmap\u001b[39m(\u001b[38;5;28mint\u001b[39m, \u001b[38;5;28minput\u001b[39m()\u001b[38;5;241m.\u001b[39msplit()))))\n\u001b[1;32m----> 4\u001b[0m \u001b[38;5;28mprint\u001b[39m(\u001b[43marr\u001b[49m\u001b[43m[\u001b[49m\u001b[38;5;241;43m-\u001b[39;49m\u001b[38;5;241;43m2\u001b[39;49m\u001b[43m]\u001b[49m)\n",
      "\u001b[1;31mIndexError\u001b[0m: list index out of range"
     ]
    }
   ],
   "source": [
    "if __name__ == '__main__':\n",
    " n = int(input())\n",
    "arr = list(set(sorted(map(int, input().split()))))\n",
    "print(arr[-2])"
   ]
  },
  {
   "cell_type": "code",
   "execution_count": 40,
   "id": "2f01ef8e",
   "metadata": {},
   "outputs": [
    {
     "name": "stdout",
     "output_type": "stream",
     "text": [
      "5\n",
      "6\n"
     ]
    },
    {
     "ename": "IndexError",
     "evalue": "list index out of range",
     "output_type": "error",
     "traceback": [
      "\u001b[1;31m---------------------------------------------------------------------------\u001b[0m",
      "\u001b[1;31mIndexError\u001b[0m                                Traceback (most recent call last)",
      "Input \u001b[1;32mIn [40]\u001b[0m, in \u001b[0;36m<cell line: 4>\u001b[1;34m()\u001b[0m\n\u001b[0;32m      2\u001b[0m  n \u001b[38;5;241m=\u001b[39m \u001b[38;5;28mint\u001b[39m(\u001b[38;5;28minput\u001b[39m())\n\u001b[0;32m      3\u001b[0m  arr \u001b[38;5;241m=\u001b[39m \u001b[38;5;28mlist\u001b[39m(\u001b[38;5;28mset\u001b[39m(\u001b[38;5;28msorted\u001b[39m(\u001b[38;5;28mmap\u001b[39m(\u001b[38;5;28mint\u001b[39m, \u001b[38;5;28minput\u001b[39m()\u001b[38;5;241m.\u001b[39msplit()))))\n\u001b[1;32m----> 4\u001b[0m \u001b[38;5;28mprint\u001b[39m(\u001b[38;5;28;43msorted\u001b[39;49m\u001b[43m(\u001b[49m\u001b[38;5;28;43mlist\u001b[39;49m\u001b[43m(\u001b[49m\u001b[38;5;28;43mset\u001b[39;49m\u001b[43m(\u001b[49m\u001b[43marr\u001b[49m\u001b[43m)\u001b[49m\u001b[43m)\u001b[49m\u001b[43m)\u001b[49m\u001b[43m[\u001b[49m\u001b[38;5;241;43m-\u001b[39;49m\u001b[38;5;241;43m2\u001b[39;49m\u001b[43m]\u001b[49m)\n",
      "\u001b[1;31mIndexError\u001b[0m: list index out of range"
     ]
    }
   ],
   "source": [
    "if __name__ == '__main__':\n",
    " n = int(input())\n",
    " arr = list(set(sorted(map(int, input().split()))))\n",
    "print(sorted(list(set(arr)))[-2])"
   ]
  },
  {
   "cell_type": "code",
   "execution_count": 42,
   "id": "d3ec4f61",
   "metadata": {},
   "outputs": [
    {
     "name": "stdout",
     "output_type": "stream",
     "text": [
      "5\n",
      "6\n"
     ]
    },
    {
     "ename": "TypeError",
     "evalue": "'int' object is not callable",
     "output_type": "error",
     "traceback": [
      "\u001b[1;31m---------------------------------------------------------------------------\u001b[0m",
      "\u001b[1;31mTypeError\u001b[0m                                 Traceback (most recent call last)",
      "Input \u001b[1;32mIn [42]\u001b[0m, in \u001b[0;36m<cell line: 3>\u001b[1;34m()\u001b[0m\n\u001b[0;32m      1\u001b[0m n \u001b[38;5;241m=\u001b[39m \u001b[38;5;28mint\u001b[39m(\u001b[38;5;28minput\u001b[39m())\n\u001b[0;32m      2\u001b[0m arr \u001b[38;5;241m=\u001b[39m \u001b[38;5;28mlist\u001b[39m(\u001b[38;5;28mmap\u001b[39m(\u001b[38;5;28mint\u001b[39m, \u001b[38;5;28minput\u001b[39m()\u001b[38;5;241m.\u001b[39msplit()))\n\u001b[1;32m----> 3\u001b[0m \u001b[38;5;28mprint\u001b[39m(\u001b[38;5;28mmax\u001b[39m([x \u001b[38;5;28;01mfor\u001b[39;00m x \u001b[38;5;129;01min\u001b[39;00m arr \u001b[38;5;28;01mif\u001b[39;00m x\u001b[38;5;241m!=\u001b[39m\u001b[38;5;28mmax\u001b[39m(arr)]))\n",
      "Input \u001b[1;32mIn [42]\u001b[0m, in \u001b[0;36m<listcomp>\u001b[1;34m(.0)\u001b[0m\n\u001b[0;32m      1\u001b[0m n \u001b[38;5;241m=\u001b[39m \u001b[38;5;28mint\u001b[39m(\u001b[38;5;28minput\u001b[39m())\n\u001b[0;32m      2\u001b[0m arr \u001b[38;5;241m=\u001b[39m \u001b[38;5;28mlist\u001b[39m(\u001b[38;5;28mmap\u001b[39m(\u001b[38;5;28mint\u001b[39m, \u001b[38;5;28minput\u001b[39m()\u001b[38;5;241m.\u001b[39msplit()))\n\u001b[1;32m----> 3\u001b[0m \u001b[38;5;28mprint\u001b[39m(\u001b[38;5;28mmax\u001b[39m([x \u001b[38;5;28;01mfor\u001b[39;00m x \u001b[38;5;129;01min\u001b[39;00m arr \u001b[38;5;28;01mif\u001b[39;00m x\u001b[38;5;241m!=\u001b[39m\u001b[38;5;28;43mmax\u001b[39;49m\u001b[43m(\u001b[49m\u001b[43marr\u001b[49m\u001b[43m)\u001b[49m]))\n",
      "\u001b[1;31mTypeError\u001b[0m: 'int' object is not callable"
     ]
    }
   ],
   "source": [
    "n = int(input())\n",
    "arr = list(map(int, input().split()))\n",
    "print(max([x for x in arr if x!=max(arr)]))"
   ]
  },
  {
   "cell_type": "code",
   "execution_count": null,
   "id": "4ab01158",
   "metadata": {},
   "outputs": [],
   "source": [
    "print sorted(set(arr))[-2]"
   ]
  },
  {
   "cell_type": "code",
   "execution_count": null,
   "id": "ed79f024",
   "metadata": {},
   "outputs": [],
   "source": [
    "print(sorted(list(set(arr)))[::-1][1])"
   ]
  },
  {
   "cell_type": "code",
   "execution_count": 43,
   "id": "7b38e95e",
   "metadata": {},
   "outputs": [
    {
     "name": "stdout",
     "output_type": "stream",
     "text": [
      "5\n",
      "6\n",
      "-9223372036854775807\n"
     ]
    }
   ],
   "source": [
    "if __name__ == '__main__':\n",
    "    n = int(input())\n",
    "    arr = map(int, input().split())\n",
    "\n",
    "    if n < 2:\n",
    "        raise Exception(\"not found\")\n",
    "    \n",
    "    import sys\n",
    "    max_score = -sys.maxsize\n",
    "    result = -sys.maxsize\n",
    "    \n",
    "    for a in arr:\n",
    "        if a > max_score:\n",
    "            result = max_score\n",
    "            max_score = a\n",
    "        elif a > result and a < max_score:\n",
    "            result = a\n",
    "    \n",
    "    print(result)"
   ]
  },
  {
   "cell_type": "code",
   "execution_count": 44,
   "id": "0ebf5311",
   "metadata": {},
   "outputs": [
    {
     "name": "stdout",
     "output_type": "stream",
     "text": [
      "5\n",
      "6\n",
      "-9223372036854775808\n"
     ]
    }
   ],
   "source": [
    "import sys\n",
    "\n",
    "def runnerUp(arr):\n",
    "    # maxScore and runnerUpScore\n",
    "    maxScore = -sys.maxsize-1\n",
    "    runnerUpScore = -sys.maxsize-1\n",
    "    \n",
    "    for score in arr:\n",
    "        if score > maxScore:\n",
    "            runnerUpScore = maxScore\n",
    "            maxScore = score\n",
    "        elif score > runnerUpScore and score < maxScore:\n",
    "            runnerUpScore = score\n",
    "            \n",
    "    return runnerUpScore\n",
    "\n",
    "if __name__ == '__main__':\n",
    "    n = int(input())\n",
    "    arr = map(int, input().split())\n",
    "    \n",
    "    print(runnerUp(arr))"
   ]
  },
  {
   "cell_type": "code",
   "execution_count": 54,
   "id": "73a04792",
   "metadata": {},
   "outputs": [
    {
     "ename": "SyntaxError",
     "evalue": "invalid syntax (3021242846.py, line 3)",
     "output_type": "error",
     "traceback": [
      "\u001b[1;36m  Input \u001b[1;32mIn [54]\u001b[1;36m\u001b[0m\n\u001b[1;33m    print (3)\u001b[0m\n\u001b[1;37m    ^\u001b[0m\n\u001b[1;31mSyntaxError\u001b[0m\u001b[1;31m:\u001b[0m invalid syntax\n"
     ]
    }
   ],
   "source": [
    "nested_list = [['blue', 'green'], ['red', 'black'], ['blue', 'white']]\n",
    "print (len(nested_list)\n",
    "print (3)\n",
    "print (nested_list[1])\n",
    "print ['red', 'black']\n",
    "print (nested_list[1][0])\n",
    "print (red)"
   ]
  },
  {
   "cell_type": "code",
   "execution_count": 49,
   "id": "8626bc9e",
   "metadata": {},
   "outputs": [
    {
     "name": "stdout",
     "output_type": "stream",
     "text": [
      "blue\n",
      "green\n",
      "red\n",
      "black\n",
      "blue\n",
      "white\n"
     ]
    }
   ],
   "source": [
    "nested_list = [['blue', 'green'], ['red', 'black'], ['blue', 'white']]\n",
    "for inner in nested_list:\n",
    "     for value in inner:\n",
    "         print (value)"
   ]
  },
  {
   "cell_type": "code",
   "execution_count": 55,
   "id": "d4313d48",
   "metadata": {},
   "outputs": [
    {
     "name": "stdout",
     "output_type": "stream",
     "text": [
      "mthoko\n"
     ]
    },
    {
     "ename": "ValueError",
     "evalue": "invalid literal for int() with base 10: 'mthoko'",
     "output_type": "error",
     "traceback": [
      "\u001b[1;31m---------------------------------------------------------------------------\u001b[0m",
      "\u001b[1;31mValueError\u001b[0m                                Traceback (most recent call last)",
      "Input \u001b[1;32mIn [55]\u001b[0m, in \u001b[0;36m<cell line: 1>\u001b[1;34m()\u001b[0m\n\u001b[0;32m      1\u001b[0m \u001b[38;5;28;01mif\u001b[39;00m \u001b[38;5;18m__name__\u001b[39m \u001b[38;5;241m==\u001b[39m \u001b[38;5;124m'\u001b[39m\u001b[38;5;124m__main__\u001b[39m\u001b[38;5;124m'\u001b[39m:\n\u001b[1;32m----> 2\u001b[0m     \u001b[38;5;28;01mfor\u001b[39;00m _ \u001b[38;5;129;01min\u001b[39;00m \u001b[38;5;28mrange\u001b[39m(\u001b[38;5;28;43mint\u001b[39;49m\u001b[43m(\u001b[49m\u001b[38;5;28;43minput\u001b[39;49m\u001b[43m(\u001b[49m\u001b[43m)\u001b[49m\u001b[43m)\u001b[49m):\n\u001b[0;32m      3\u001b[0m         name \u001b[38;5;241m=\u001b[39m \u001b[38;5;28minput\u001b[39m()\n\u001b[0;32m      4\u001b[0m         score \u001b[38;5;241m=\u001b[39m \u001b[38;5;28mfloat\u001b[39m(\u001b[38;5;28minput\u001b[39m())\n",
      "\u001b[1;31mValueError\u001b[0m: invalid literal for int() with base 10: 'mthoko'"
     ]
    }
   ],
   "source": [
    "if __name__ == '__main__':\n",
    "    for _ in range(int(input())):\n",
    "        name = input()\n",
    "        score = float(input())"
   ]
  },
  {
   "cell_type": "code",
   "execution_count": 56,
   "id": "0c8d7eb4",
   "metadata": {},
   "outputs": [
    {
     "name": "stdout",
     "output_type": "stream",
     "text": [
      "mthokozisi\n"
     ]
    },
    {
     "ename": "ValueError",
     "evalue": "invalid literal for int() with base 10: 'mthokozisi'",
     "output_type": "error",
     "traceback": [
      "\u001b[1;31m---------------------------------------------------------------------------\u001b[0m",
      "\u001b[1;31mValueError\u001b[0m                                Traceback (most recent call last)",
      "Input \u001b[1;32mIn [56]\u001b[0m, in \u001b[0;36m<cell line: 2>\u001b[1;34m()\u001b[0m\n\u001b[0;32m      1\u001b[0m marksheet \u001b[38;5;241m=\u001b[39m []\n\u001b[1;32m----> 2\u001b[0m \u001b[38;5;28;01mfor\u001b[39;00m _ \u001b[38;5;129;01min\u001b[39;00m \u001b[38;5;28mrange\u001b[39m(\u001b[38;5;241m0\u001b[39m,\u001b[38;5;28;43mint\u001b[39;49m\u001b[43m(\u001b[49m\u001b[38;5;28;43minput\u001b[39;49m\u001b[43m(\u001b[49m\u001b[43m)\u001b[49m\u001b[43m)\u001b[49m):\n\u001b[0;32m      3\u001b[0m     marksheet\u001b[38;5;241m.\u001b[39mappend([\u001b[38;5;28minput\u001b[39m(), \u001b[38;5;28mfloat\u001b[39m(\u001b[38;5;28minput\u001b[39m())])\n\u001b[0;32m      5\u001b[0m second_highest \u001b[38;5;241m=\u001b[39m \u001b[38;5;28msorted\u001b[39m(\u001b[38;5;28mlist\u001b[39m(\u001b[38;5;28mset\u001b[39m([marks \u001b[38;5;28;01mfor\u001b[39;00m name, marks \u001b[38;5;129;01min\u001b[39;00m marksheet])))[\u001b[38;5;241m1\u001b[39m]\n",
      "\u001b[1;31mValueError\u001b[0m: invalid literal for int() with base 10: 'mthokozisi'"
     ]
    }
   ],
   "source": [
    "marksheet = []\n",
    "for _ in range(0,int(input())):\n",
    "    marksheet.append([input(), float(input())])\n",
    "\n",
    "second_highest = sorted(list(set([marks for name, marks in marksheet])))[1]\n",
    "print('\\n'.join([a for a,b in sorted(marksheet) if b == second_highest]))"
   ]
  },
  {
   "cell_type": "code",
   "execution_count": 59,
   "id": "8faa4714",
   "metadata": {},
   "outputs": [
    {
     "name": "stdout",
     "output_type": "stream",
     "text": [
      "myho\n"
     ]
    },
    {
     "ename": "ValueError",
     "evalue": "invalid literal for int() with base 10: 'myho'",
     "output_type": "error",
     "traceback": [
      "\u001b[1;31m---------------------------------------------------------------------------\u001b[0m",
      "\u001b[1;31mValueError\u001b[0m                                Traceback (most recent call last)",
      "Input \u001b[1;32mIn [59]\u001b[0m, in \u001b[0;36m<cell line: 2>\u001b[1;34m()\u001b[0m\n\u001b[0;32m      1\u001b[0m d\u001b[38;5;241m=\u001b[39m{} \u001b[38;5;66;03m#1\u001b[39;00m\n\u001b[1;32m----> 2\u001b[0m \u001b[38;5;28;01mfor\u001b[39;00m _ \u001b[38;5;129;01min\u001b[39;00m \u001b[38;5;28mrange\u001b[39m(\u001b[38;5;28;43mint\u001b[39;49m\u001b[43m(\u001b[49m\u001b[38;5;28;43minput\u001b[39;49m\u001b[43m(\u001b[49m\u001b[43m)\u001b[49m\u001b[43m)\u001b[49m): \u001b[38;5;66;03m#2\u001b[39;00m\n\u001b[0;32m      3\u001b[0m     Name\u001b[38;5;241m=\u001b[39mraw_input() \u001b[38;5;66;03m#3\u001b[39;00m\n\u001b[0;32m      4\u001b[0m     Grade\u001b[38;5;241m=\u001b[39m\u001b[38;5;28mfloat\u001b[39m(raw_input()) \u001b[38;5;66;03m#4\u001b[39;00m\n",
      "\u001b[1;31mValueError\u001b[0m: invalid literal for int() with base 10: 'myho'"
     ]
    }
   ],
   "source": [
    "d={} #1\n",
    "for _ in range(int(input())): #2\n",
    "    Name=raw_input() #3\n",
    "    Grade=float(raw_input()) #4\n",
    "    d[Name]=Grade #5\n",
    "v=d.values()#6\n",
    "second=sorted(list(set(v)))[1] #7\n",
    "second_lowest=[] #8\n",
    "for key,value in d.items():  #9\n",
    "    if value==second: #10\n",
    "        second_lowest.append(key) #11\n",
    "second_lowest.sort() #12\n",
    "for name in second_lowest: #13\n",
    "    print (name) #14"
   ]
  },
  {
   "cell_type": "code",
   "execution_count": null,
   "id": "026973ac",
   "metadata": {},
   "outputs": [],
   "source": [
    "l = []\n",
    "second_lowest_names = []\n",
    "scores = set()\n",
    "\n",
    "for _ in range(int(input())):\n",
    "    name = input()\n",
    "    score = float(input())\n",
    "    l.append([name, score])\n",
    "    scores.add(score)\n",
    "        \n",
    "second_lowest = sorted(scores)[1]\n",
    "\n",
    "for name, score in l:\n",
    "    if score == second_lowest:\n",
    "        second_lowest_names.append(name)\n",
    "\n",
    "for name in sorted(second_lowest_names):\n",
    "    print(name, end='\\n')"
   ]
  },
  {
   "cell_type": "code",
   "execution_count": 66,
   "id": "e336868a",
   "metadata": {},
   "outputs": [
    {
     "name": "stdout",
     "output_type": "stream",
     "text": [
      "mmnnn\n"
     ]
    },
    {
     "ename": "ValueError",
     "evalue": "invalid literal for int() with base 10: 'mmnnn'",
     "output_type": "error",
     "traceback": [
      "\u001b[1;31m---------------------------------------------------------------------------\u001b[0m",
      "\u001b[1;31mValueError\u001b[0m                                Traceback (most recent call last)",
      "Input \u001b[1;32mIn [66]\u001b[0m, in \u001b[0;36m<cell line: 5>\u001b[1;34m()\u001b[0m\n\u001b[0;32m      2\u001b[0m second_lowest_names \u001b[38;5;241m=\u001b[39m []\n\u001b[0;32m      3\u001b[0m scores \u001b[38;5;241m=\u001b[39m \u001b[38;5;28mset\u001b[39m()\n\u001b[1;32m----> 5\u001b[0m \u001b[38;5;28;01mfor\u001b[39;00m _ \u001b[38;5;129;01min\u001b[39;00m \u001b[38;5;28mrange\u001b[39m(\u001b[38;5;28;43mint\u001b[39;49m\u001b[43m(\u001b[49m\u001b[38;5;28;43minput\u001b[39;49m\u001b[43m(\u001b[49m\u001b[43m)\u001b[49m\u001b[43m)\u001b[49m):\n\u001b[0;32m      6\u001b[0m     name \u001b[38;5;241m=\u001b[39m \u001b[38;5;28minput\u001b[39m()\n\u001b[0;32m      7\u001b[0m     score \u001b[38;5;241m=\u001b[39m \u001b[38;5;28mfloat\u001b[39m(\u001b[38;5;28minput\u001b[39m())\n",
      "\u001b[1;31mValueError\u001b[0m: invalid literal for int() with base 10: 'mmnnn'"
     ]
    }
   ],
   "source": [
    "l = []\n",
    "second_lowest_names = []\n",
    "scores = set()\n",
    "\n",
    "for _ in range(int(input())):\n",
    "    name = input()\n",
    "    score = float(input())\n",
    "    l.append([name, score])\n",
    "    scores.add(score)\n",
    "        \n",
    "second_lowest = sorted(scores)[1]\n",
    "\n",
    "for name, score in l:\n",
    "    if score == second_lowest:\n",
    "        second_lowest_names.append(name)\n",
    "\n",
    "for name in sorted(second_lowest_names):\n",
    "    print(name, end='\\n')"
   ]
  },
  {
   "cell_type": "code",
   "execution_count": 68,
   "id": "0bc336b9",
   "metadata": {},
   "outputs": [
    {
     "name": "stdout",
     "output_type": "stream",
     "text": [
      "mthoko\n"
     ]
    },
    {
     "ename": "ValueError",
     "evalue": "invalid literal for int() with base 10: 'mthoko'",
     "output_type": "error",
     "traceback": [
      "\u001b[1;31m---------------------------------------------------------------------------\u001b[0m",
      "\u001b[1;31mValueError\u001b[0m                                Traceback (most recent call last)",
      "Input \u001b[1;32mIn [68]\u001b[0m, in \u001b[0;36m<cell line: 1>\u001b[1;34m()\u001b[0m\n\u001b[0;32m      1\u001b[0m \u001b[38;5;28;01mif\u001b[39;00m \u001b[38;5;18m__name__\u001b[39m \u001b[38;5;241m==\u001b[39m \u001b[38;5;124m'\u001b[39m\u001b[38;5;124m__main__\u001b[39m\u001b[38;5;124m'\u001b[39m:\n\u001b[0;32m      2\u001b[0m     a\u001b[38;5;241m=\u001b[39m []\n\u001b[1;32m----> 3\u001b[0m     \u001b[38;5;28;01mfor\u001b[39;00m _ \u001b[38;5;129;01min\u001b[39;00m \u001b[38;5;28mrange\u001b[39m(\u001b[38;5;28;43mint\u001b[39;49m\u001b[43m(\u001b[49m\u001b[38;5;28;43minput\u001b[39;49m\u001b[43m(\u001b[49m\u001b[43m)\u001b[49m\u001b[43m)\u001b[49m):\n\u001b[0;32m      4\u001b[0m         name \u001b[38;5;241m=\u001b[39m \u001b[38;5;28minput\u001b[39m()\n\u001b[0;32m      5\u001b[0m         score \u001b[38;5;241m=\u001b[39m \u001b[38;5;28mfloat\u001b[39m(\u001b[38;5;28minput\u001b[39m())\n",
      "\u001b[1;31mValueError\u001b[0m: invalid literal for int() with base 10: 'mthoko'"
     ]
    }
   ],
   "source": [
    "if __name__ == '__main__':\n",
    "    a= []\n",
    "    for _ in range(int(input())):\n",
    "        name = input()\n",
    "        score = float(input())\n",
    "        a.append([score, name])\n",
    "\n",
    "    a.sort()\n",
    "    b = [i for i in a if i[0] != a[0][0]]\n",
    "    c = [j for j in b if j[0] == b[0][0]]\n",
    "    \n",
    "    c.sort(key=lambda x: x[1])\n",
    "    for i in range(len(c)):\n",
    "        print(c[i][1])"
   ]
  },
  {
   "cell_type": "code",
   "execution_count": null,
   "id": "4ebbc864",
   "metadata": {},
   "outputs": [],
   "source": [
    "n = int(input())\n",
    "marks = [[input(), float(input())] for i in  range(n)]           \n",
    "scores = sorted({s[1] for s in marks})\n",
    "result = sorted(s[0] for s in marks if s[1] == scores[1])\n",
    "print ('\\n'.join(result))"
   ]
  },
  {
   "cell_type": "code",
   "execution_count": null,
   "id": "7c7cffe4",
   "metadata": {},
   "outputs": [],
   "source": [
    "if __name__ == '__main__':\n",
    "    students = []\n",
    "    for _ in range(int(input())):\n",
    "        name = input()\n",
    "        score = float(input())\n",
    "        students.append([name,score]) \n",
    "    x = 99999\n",
    "    for i in range(len(students)):\n",
    "        if x > float(students[i][1]):\n",
    "            x = float(students[i][1])\n",
    "    y = 999999\n",
    "    for i in range(len(students)):\n",
    "        if float(students[i][1]) > float(x) and y > float(students[i][1]):\n",
    "            y = float(students[i][1])\n",
    "    runner = []\n",
    "    for i in range(len(students)):\n",
    "        if float(students[i][1]) == float(y):\n",
    "            runner.append(students[i][0])\n",
    "    runner = sorted(runner)\n",
    "\n",
    "    for i in range(len(runner)):\n",
    "        print(runner[i])"
   ]
  },
  {
   "cell_type": "code",
   "execution_count": null,
   "id": "8db64eae",
   "metadata": {},
   "outputs": [],
   "source": []
  }
 ],
 "metadata": {
  "kernelspec": {
   "display_name": "Python 3 (ipykernel)",
   "language": "python",
   "name": "python3"
  },
  "language_info": {
   "codemirror_mode": {
    "name": "ipython",
    "version": 3
   },
   "file_extension": ".py",
   "mimetype": "text/x-python",
   "name": "python",
   "nbconvert_exporter": "python",
   "pygments_lexer": "ipython3",
   "version": "3.9.12"
  }
 },
 "nbformat": 4,
 "nbformat_minor": 5
}
