{
 "cells": [
  {
   "cell_type": "markdown",
   "id": "19caf2dc",
   "metadata": {},
   "source": [
    "# Question 1"
   ]
  },
  {
   "cell_type": "markdown",
   "id": "75fab584",
   "metadata": {},
   "source": [
    "## Write a Python function to find the Max of three numbers. "
   ]
  },
  {
   "cell_type": "code",
   "execution_count": 2,
   "id": "e60bd791",
   "metadata": {},
   "outputs": [
    {
     "name": "stdout",
     "output_type": "stream",
     "text": [
      "10\n"
     ]
    }
   ],
   "source": [
    "def max_of_two( x, y ):\n",
    "    if x > y:\n",
    "        return x\n",
    "    return y\n",
    "def max_of_three( x, y, z ):\n",
    "    return max_of_two( x, max_of_two( y, z ) )\n",
    "print(max_of_three(3, 10, -5))"
   ]
  },
  {
   "cell_type": "markdown",
   "id": "fbc63cd1",
   "metadata": {},
   "source": [
    "# Question 2"
   ]
  },
  {
   "cell_type": "markdown",
   "id": "505b9dad",
   "metadata": {},
   "source": [
    "## Write a Python function to sum all the numbers in a list.\n",
    "\n",
    "### Sample List: (8, 2, 3, 0, 7)\n",
    "### Expected Output: 20"
   ]
  },
  {
   "cell_type": "code",
   "execution_count": 3,
   "id": "3a0a45f0",
   "metadata": {},
   "outputs": [
    {
     "name": "stdout",
     "output_type": "stream",
     "text": [
      "20\n"
     ]
    }
   ],
   "source": [
    "def sum(numbers):\n",
    "    total = 0\n",
    "    for x in numbers:\n",
    "        total += x\n",
    "    return total\n",
    "print(sum((8, 2, 3, 0, 7)))\n"
   ]
  },
  {
   "cell_type": "markdown",
   "id": "ff7449bb",
   "metadata": {},
   "source": [
    "# Question 3"
   ]
  },
  {
   "cell_type": "markdown",
   "id": "5d311638",
   "metadata": {},
   "source": [
    "## Write a Python function to multiply all the numbers in a list.\n",
    "\n",
    "### Sample List: (8, 2, 3, -1, 7)\n",
    "### Expected Output: -336"
   ]
  },
  {
   "cell_type": "code",
   "execution_count": 4,
   "id": "83268d11",
   "metadata": {},
   "outputs": [
    {
     "name": "stdout",
     "output_type": "stream",
     "text": [
      "-336\n"
     ]
    }
   ],
   "source": [
    "def multiply(numbers):  \n",
    "    total = 1\n",
    "    for x in numbers:\n",
    "        total *= x  \n",
    "    return total  \n",
    "print(multiply((8, 2, 3, -1, 7)))\n"
   ]
  },
  {
   "cell_type": "code",
   "execution_count": null,
   "id": "a79bcbd6",
   "metadata": {},
   "outputs": [],
   "source": []
  }
 ],
 "metadata": {
  "kernelspec": {
   "display_name": "Python 3 (ipykernel)",
   "language": "python",
   "name": "python3"
  },
  "language_info": {
   "codemirror_mode": {
    "name": "ipython",
    "version": 3
   },
   "file_extension": ".py",
   "mimetype": "text/x-python",
   "name": "python",
   "nbconvert_exporter": "python",
   "pygments_lexer": "ipython3",
   "version": "3.9.12"
  }
 },
 "nbformat": 4,
 "nbformat_minor": 5
}
