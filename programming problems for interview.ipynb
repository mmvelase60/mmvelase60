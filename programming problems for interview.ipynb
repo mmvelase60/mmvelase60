{
 "cells": [
  {
   "cell_type": "markdown",
   "id": "3d3fae93",
   "metadata": {},
   "source": [
    "# Write a program that prints the integers from 1 to 100. But for multiples of two print \"Fizz\" instead of the number, and for the multiples of three print \"Buzz\".  \n",
    "# For numbers which are multiples of both two and three print \"FizzBuzz\".\n"
   ]
  },
  {
   "cell_type": "code",
   "execution_count": 1,
   "id": "7956788a",
   "metadata": {},
   "outputs": [
    {
     "name": "stdout",
     "output_type": "stream",
     "text": [
      "1\n",
      "Fizz:2\n",
      "Buzz:3\n",
      "Fizz:4\n",
      "5\n",
      "Fizz:6\n",
      "7\n",
      "Fizz:8\n",
      "Buzz:9\n",
      "Fizz:10\n",
      "11\n",
      "Fizz:12\n",
      "13\n",
      "Fizz:14\n",
      "FizzBuzz: 15\n",
      "Fizz:16\n",
      "17\n",
      "Fizz:18\n",
      "19\n",
      "Fizz:20\n",
      "Buzz:21\n",
      "Fizz:22\n",
      "23\n",
      "Fizz:24\n",
      "25\n",
      "Fizz:26\n",
      "Buzz:27\n",
      "Fizz:28\n",
      "29\n",
      "FizzBuzz: 30\n",
      "31\n",
      "Fizz:32\n",
      "Buzz:33\n",
      "Fizz:34\n",
      "35\n",
      "Fizz:36\n",
      "37\n",
      "Fizz:38\n",
      "Buzz:39\n",
      "Fizz:40\n",
      "41\n",
      "Fizz:42\n",
      "43\n",
      "Fizz:44\n",
      "FizzBuzz: 45\n",
      "Fizz:46\n",
      "47\n",
      "Fizz:48\n",
      "49\n",
      "Fizz:50\n",
      "Buzz:51\n",
      "Fizz:52\n",
      "53\n",
      "Fizz:54\n",
      "55\n",
      "Fizz:56\n",
      "Buzz:57\n",
      "Fizz:58\n",
      "59\n",
      "FizzBuzz: 60\n",
      "61\n",
      "Fizz:62\n",
      "Buzz:63\n",
      "Fizz:64\n",
      "65\n",
      "Fizz:66\n",
      "67\n",
      "Fizz:68\n",
      "Buzz:69\n",
      "Fizz:70\n",
      "71\n",
      "Fizz:72\n",
      "73\n",
      "Fizz:74\n",
      "FizzBuzz: 75\n",
      "Fizz:76\n",
      "77\n",
      "Fizz:78\n",
      "79\n",
      "Fizz:80\n",
      "Buzz:81\n",
      "Fizz:82\n",
      "83\n",
      "Fizz:84\n",
      "85\n",
      "Fizz:86\n",
      "Buzz:87\n",
      "Fizz:88\n",
      "89\n",
      "FizzBuzz: 90\n",
      "91\n",
      "Fizz:92\n",
      "Buzz:93\n",
      "Fizz:94\n",
      "95\n",
      "Fizz:96\n",
      "97\n",
      "Fizz:98\n",
      "Buzz:99\n",
      "Fizz:100\n"
     ]
    }
   ],
   "source": [
    "for number in range(1,101):\n",
    "    if number % 3 == 0 and number % 5 == 0:\n",
    "        print(\"FizzBuzz: \"+str(number))\n",
    "    elif number % 2 == 0:\n",
    "        print(\"Fizz:\" +str(number))\n",
    "    elif number % 3 == 0:\n",
    "        print(\"Buzz:\" +str(number))\n",
    "    else:\n",
    "        print(number)"
   ]
  },
  {
   "cell_type": "markdown",
   "id": "d6e46658",
   "metadata": {},
   "source": [
    "# 2.\tWrite a program that displays a list of words. If a word is in singular form display the word and \"Singular\" next to it, and display \"Plural\" if it's in plural form. Use the foreach loop to achieve this. Use the following word list { \"Fact\", \"Lessons\", \"Searches\", \"Solutions\", \"Program\", \"Times\" }; "
   ]
  },
  {
   "cell_type": "code",
   "execution_count": 8,
   "id": "af230f31",
   "metadata": {},
   "outputs": [
    {
     "name": "stdout",
     "output_type": "stream",
     "text": [
      "Plural\n",
      "Singular\n",
      "Singular\n",
      "Singular\n",
      "Plural\n",
      "Singular\n"
     ]
    }
   ],
   "source": [
    "word = (\"Fact\",\"Lessons\", \"Searches\", \"Solutions\", \"Program\", \"Times\")\n",
    "for x in word:\n",
    "    if x[-1] == \"s\":\n",
    "        print(\"Singular\")\n",
    "    else:\n",
    "        print(\"Plural\")\n"
   ]
  },
  {
   "cell_type": "markdown",
   "id": "26a8e785",
   "metadata": {},
   "source": [
    "# 4.\tRate your C# ,Asp.net, SQL, CSS , JavaScript, Bootstrap, Android, SSIS Reporting, Power BI, API and Java proficiency on the scale of 1 to 10 "
   ]
  },
  {
   "cell_type": "markdown",
   "id": "3dc001d9",
   "metadata": {},
   "source": [
    "### c# = 6, \n",
    "### Asp.net = 6, \n",
    "### SQL= 5, \n",
    "### JavaScript = 3, \n",
    "### CSS = 8, \n",
    "### Bootstrap = 3, \n",
    "### Android = 4, \n",
    "### SSIS Reporting = 1, \n",
    "### Power BI = 1, \n",
    "### API = 8, \n",
    "### Java proficiency = 3"
   ]
  },
  {
   "cell_type": "markdown",
   "id": "71c38df7",
   "metadata": {},
   "source": [
    "# 5.\tDiscuss one big problem you solved in a work/school project. "
   ]
  },
  {
   "cell_type": "markdown",
   "id": "cfe769ae",
   "metadata": {},
   "source": [
    "## School\n",
    "### Creating Car Wash system using C#,HTML,CSS and JavaScripts.\n",
    "### Creating Online Clothing Store using  C#,HTML and CSS.\n",
    "### Creating Tent Hire Store system using  C#,HTML and CSS\n",
    "## Work\n",
    "### Explore different Azure storage services and delete or copy files from Azure blob storage by using the SSIS package.\n",
    "### Process blob files automatically using an Azure function with blob trigger.\n",
    "### Send push notifications to specific Android apps using Azure notification hubs\n",
    "### Manage Azure Recourses and monitor costs by creating automation tasks.\n"
   ]
  },
  {
   "cell_type": "code",
   "execution_count": null,
   "id": "080fb856",
   "metadata": {},
   "outputs": [],
   "source": []
  }
 ],
 "metadata": {
  "kernelspec": {
   "display_name": "Python 3 (ipykernel)",
   "language": "python",
   "name": "python3"
  },
  "language_info": {
   "codemirror_mode": {
    "name": "ipython",
    "version": 3
   },
   "file_extension": ".py",
   "mimetype": "text/x-python",
   "name": "python",
   "nbconvert_exporter": "python",
   "pygments_lexer": "ipython3",
   "version": "3.9.12"
  }
 },
 "nbformat": 4,
 "nbformat_minor": 5
}
