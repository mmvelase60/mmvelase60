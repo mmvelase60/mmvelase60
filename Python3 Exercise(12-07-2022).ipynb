{
 "cells": [
  {
   "cell_type": "code",
   "execution_count": 1,
   "id": "b23f48dd",
   "metadata": {},
   "outputs": [
    {
     "name": "stdout",
     "output_type": "stream",
     "text": [
      "The examination will start from : 11 / 12 2014\n"
     ]
    }
   ],
   "source": [
    "exam_st_date = (11,12,2014)\n",
    "print(\"The examination will start from : %i / %i %i\"%exam_st_date)"
   ]
  },
  {
   "cell_type": "code",
   "execution_count": 4,
   "id": "b2012a2f",
   "metadata": {},
   "outputs": [
    {
     "name": "stdout",
     "output_type": "stream",
     "text": [
      "Please Enter the number5\n",
      "615\n"
     ]
    }
   ],
   "source": [
    "number = int(input(\"Please Enter the number\"))\n",
    "n1 = int(\"%s\" % number  )\n",
    "n2 = int(\"%s%s\" % (number,number))\n",
    "n3 = int(\"%s%s%s\" % (number,number,number))\n",
    "print (n1+n2+n3)"
   ]
  },
  {
   "cell_type": "code",
   "execution_count": 5,
   "id": "5d620781",
   "metadata": {},
   "outputs": [
    {
     "name": "stdout",
     "output_type": "stream",
     "text": [
      "Return the absolute value of the argument.\n"
     ]
    }
   ],
   "source": [
    "print (abs.__doc__)"
   ]
  },
  {
   "cell_type": "code",
   "execution_count": 7,
   "id": "4d51303a",
   "metadata": {},
   "outputs": [
    {
     "name": "stdout",
     "output_type": "stream",
     "text": [
      "Input the year: 2019\n",
      "Input the month: 07\n",
      "     July 2019\n",
      "Mo Tu We Th Fr Sa Su\n",
      " 1  2  3  4  5  6  7\n",
      " 8  9 10 11 12 13 14\n",
      "15 16 17 18 19 20 21\n",
      "22 23 24 25 26 27 28\n",
      "29 30 31\n",
      "\n"
     ]
    }
   ],
   "source": [
    "import calendar\n",
    "y = int(input(\"Input the year: \"))\n",
    "m = int(input(\"Input the month: \"))\n",
    "print(calendar.month(y,m))"
   ]
  },
  {
   "cell_type": "code",
   "execution_count": 10,
   "id": "51a2a306",
   "metadata": {},
   "outputs": [
    {
     "name": "stdout",
     "output_type": "stream",
     "text": [
      "a string that you \"don't\" have to escape\n",
      "This\n",
      "is a ....... multi-line\n",
      "heredoc string -------> example\n"
     ]
    }
   ],
   "source": [
    "print(\"\"\"a string that you \"don't\" have to escape\n",
    "This\n",
    "is a ....... multi-line\n",
    "heredoc string -------> example\"\"\")"
   ]
  },
  {
   "cell_type": "code",
   "execution_count": 11,
   "id": "56636f1f",
   "metadata": {},
   "outputs": [
    {
     "name": "stdout",
     "output_type": "stream",
     "text": [
      "9\n"
     ]
    }
   ],
   "source": [
    "from datetime import date\n",
    "f_date = date(2014,7,2)\n",
    "l_date = date(2014,7,11)\n",
    "delta = l_date - f_date\n",
    "print(delta.days)"
   ]
  },
  {
   "cell_type": "code",
   "execution_count": 13,
   "id": "6df401db",
   "metadata": {},
   "outputs": [
    {
     "name": "stdout",
     "output_type": "stream",
     "text": [
      "The volume of the sphere is:  904.7786842338603\n"
     ]
    }
   ],
   "source": [
    "pi = 3.1415926535897931\n",
    "r = 6.0\n",
    "v = 4.0/3.0*pi* r**3\n",
    "print('The volume of the sphere is: ',v)"
   ]
  },
  {
   "cell_type": "code",
   "execution_count": 20,
   "id": "5219cd15",
   "metadata": {},
   "outputs": [
    {
     "name": "stdout",
     "output_type": "stream",
     "text": [
      "Please enter the number14\n",
      "-3\n"
     ]
    }
   ],
   "source": [
    "num = int(input(\"Please enter the number\"))\n",
    "if num <= 17:\n",
    "    print(num - 17)\n",
    "else:\n",
    "    print((num - 17) * 2)"
   ]
  },
  {
   "cell_type": "code",
   "execution_count": 21,
   "id": "5d41975c",
   "metadata": {},
   "outputs": [
    {
     "name": "stdout",
     "output_type": "stream",
     "text": [
      "10\n",
      "3\n"
     ]
    }
   ],
   "source": [
    "def difference(n):\n",
    "    if n <= 17:\n",
    "        return 17 - n\n",
    "    else:\n",
    "        return(n - 17) * 2\n",
    "print(difference(22))\n",
    "print(difference(14))"
   ]
  },
  {
   "cell_type": "code",
   "execution_count": 23,
   "id": "b05957bd",
   "metadata": {},
   "outputs": [
    {
     "name": "stdout",
     "output_type": "stream",
     "text": [
      "('Number is within 2000: ', 22)\n",
      "('Number is within 100 to 1000: ', 200)\n",
      "('Number is within 2000: ', 1120)\n"
     ]
    }
   ],
   "source": [
    "def numbers(n):\n",
    "    if n > 100 and n < 1000:\n",
    "        return 'Number is within 100 to 1000: ',n\n",
    "    elif n < 2000:\n",
    "        return \"Number is within 2000: \",n\n",
    "    else:\n",
    "        return \"Number is: \"\n",
    "print(numbers(22))\n",
    "print(numbers(200))\n",
    "print(numbers(1120))"
   ]
  },
  {
   "cell_type": "code",
   "execution_count": 24,
   "id": "2e16576f",
   "metadata": {},
   "outputs": [
    {
     "name": "stdout",
     "output_type": "stream",
     "text": [
      "True\n",
      "True\n",
      "False\n",
      "False\n"
     ]
    }
   ],
   "source": [
    "def near_thousand(n):\n",
    "    return ((abs(1000 - n) <= 100) or (abs(2000 - n) <= 100))\n",
    "print(near_thousand(1000))\n",
    "print(near_thousand(900))\n",
    "print(near_thousand(800))\n",
    "print(near_thousand(2200))"
   ]
  },
  {
   "cell_type": "code",
   "execution_count": 31,
   "id": "b05f3baf",
   "metadata": {},
   "outputs": [
    {
     "name": "stdout",
     "output_type": "stream",
     "text": [
      "9\n",
      "36\n"
     ]
    }
   ],
   "source": [
    "def sum_numbers(n1,n2,n3):\n",
    "    sum = n1 + n2 + n3\n",
    "    if n1 == n2 == n3:\n",
    "         sum = sum * 3\n",
    "    return sum\n",
    "    \n",
    "print(sum_numbers(2,3,4))\n",
    "print(sum_numbers(4,4,4))"
   ]
  },
  {
   "cell_type": "code",
   "execution_count": 35,
   "id": "f36c5a8f",
   "metadata": {},
   "outputs": [
    {
     "name": "stdout",
     "output_type": "stream",
     "text": [
      "Please enter a nameIslanga\n",
      "Islanga\n"
     ]
    }
   ],
   "source": [
    "new_string = str(input(\"Please enter a name\"))\n",
    "#for x in new_string:\n",
    "#    print(new_string)\n",
    "if new_string[0:2] == \"Is\":\n",
    "    print(new_string)\n",
    "else:\n",
    "    print(\"Is\"+new_string)"
   ]
  },
  {
   "cell_type": "code",
   "execution_count": 36,
   "id": "de068a69",
   "metadata": {},
   "outputs": [
    {
     "name": "stdout",
     "output_type": "stream",
     "text": [
      "IsArray\n",
      "IsEmpty\n"
     ]
    }
   ],
   "source": [
    "def new_string(str):\n",
    "    if len(str) >= 2 and str[:2] == \"Is\":\n",
    "        return str\n",
    "    return \"Is\"+str\n",
    "print(new_string(\"Array\"))\n",
    "print(new_string(\"IsEmpty\"))"
   ]
  },
  {
   "cell_type": "code",
   "execution_count": 37,
   "id": "8be155da",
   "metadata": {},
   "outputs": [
    {
     "name": "stdout",
     "output_type": "stream",
     "text": [
      "abcabc\n",
      ".py.py.py\n"
     ]
    }
   ],
   "source": [
    "def larger_string(str,n):\n",
    "    result = \"\"\n",
    "    for i in range(n):\n",
    "        result = result + str\n",
    "    return result\n",
    "print(larger_string('abc',2))\n",
    "print(larger_string('.py',3))"
   ]
  },
  {
   "cell_type": "code",
   "execution_count": 41,
   "id": "533c94dd",
   "metadata": {},
   "outputs": [
    {
     "name": "stdout",
     "output_type": "stream",
     "text": [
      "Please enter a number: 6\n",
      "This is a Even number:  6\n"
     ]
    }
   ],
   "source": [
    "num1 = int(input(\"Please enter a number: \"))\n",
    "if num1 % 2 == 0:\n",
    "    print(\"This is a Even number: \",num1)\n",
    "    num1+=1\n",
    "else:\n",
    "    print('This is an Odd Number: ',num1)\n",
    "    num1+=1"
   ]
  },
  {
   "cell_type": "code",
   "execution_count": 42,
   "id": "9b91c0c2",
   "metadata": {},
   "outputs": [
    {
     "name": "stdout",
     "output_type": "stream",
     "text": [
      "Enter a number: 5\n",
      "This is a Even number: \n"
     ]
    }
   ],
   "source": [
    "num = int(input(\"Enter a number: \"))\n",
    "mod = num % 2\n",
    "if mod > 0:\n",
    "    print(\"This is a Even number: \")\n",
    "else:\n",
    "    ('This is an Odd Number: ')"
   ]
  },
  {
   "cell_type": "code",
   "execution_count": 58,
   "id": "ab2adce4",
   "metadata": {},
   "outputs": [
    {
     "name": "stdout",
     "output_type": "stream",
     "text": [
      "1\n",
      "2\n",
      "3\n"
     ]
    }
   ],
   "source": [
    "given_num = [5,8,4,6,8,4,5,4]\n",
    "count = 0\n",
    "for x in given_num:\n",
    "    #print(x)\n",
    "    if x == 4:\n",
    "        count = count + 1\n",
    "        print(count)\n",
    "        "
   ]
  },
  {
   "cell_type": "code",
   "execution_count": 53,
   "id": "9e036d4c",
   "metadata": {},
   "outputs": [
    {
     "name": "stdout",
     "output_type": "stream",
     "text": [
      "2\n",
      "3\n"
     ]
    }
   ],
   "source": [
    "def list_count_4(nums):\n",
    "    count = 0\n",
    "    for num in nums:\n",
    "        if num == 4:\n",
    "            count = count + 1\n",
    "    return count\n",
    "print(list_count_4([5,8,8,6,8,4,5,4]))\n",
    "print(list_count_4([5,8,4,6,8,4,5,4]))"
   ]
  },
  {
   "cell_type": "code",
   "execution_count": 59,
   "id": "d03f0d02",
   "metadata": {},
   "outputs": [
    {
     "name": "stdout",
     "output_type": "stream",
     "text": [
      "ababab\n",
      "pppp\n"
     ]
    }
   ],
   "source": [
    "def substring_copy(str,n):\n",
    "    flen = 2\n",
    "    if flen > len(str):\n",
    "        flen = len(str)\n",
    "    substr = str[:flen]\n",
    "    \n",
    "    result = \"\"\n",
    "    for i in range(n):\n",
    "        result = result + substr\n",
    "    return result\n",
    "print(substring_copy('abcdef',3))\n",
    "print(substring_copy('p',4))"
   ]
  },
  {
   "cell_type": "code",
   "execution_count": 11,
   "id": "5f4f7877",
   "metadata": {},
   "outputs": [
    {
     "name": "stdout",
     "output_type": "stream",
     "text": [
      "Please enter letter: aityyt\n",
      "The words do not contain vowel\n"
     ]
    }
   ],
   "source": [
    "vowel_letter = str(input(\"Please enter letter: \"))\n",
    "vowel = ['aeiou']\n",
    "for x in vowel:\n",
    "    if x == 'a' or x == 'e':\n",
    "        print(\"The words contain vowel\")\n",
    "    elif x == 'i' or x == 'o':\n",
    "         print(\"The words contain vowel\")\n",
    "    elif x == 'u':\n",
    "         print(\"The words contain vowel\")\n",
    "    else:\n",
    "        print(\"The words do not contain vowel\")\n",
    "        \n",
    "  \n",
    "\n",
    "\n",
    "    "
   ]
  },
  {
   "cell_type": "code",
   "execution_count": 12,
   "id": "9b7e4372",
   "metadata": {},
   "outputs": [
    {
     "name": "stdout",
     "output_type": "stream",
     "text": [
      "False\n",
      "True\n"
     ]
    }
   ],
   "source": [
    "def is_vowel(char):\n",
    "    all_vowels = 'aeiou'\n",
    "    return char in all_vowels\n",
    "print(is_vowel('c'))\n",
    "print(is_vowel('e'))"
   ]
  },
  {
   "cell_type": "code",
   "execution_count": 15,
   "id": "e8594371",
   "metadata": {},
   "outputs": [
    {
     "name": "stdout",
     "output_type": "stream",
     "text": [
      "True\n",
      "False\n",
      "True\n"
     ]
    }
   ],
   "source": [
    "def ckl(group_data,n):\n",
    "    for value in group_data:\n",
    "        if n == value:\n",
    "            return True\n",
    "    return False\n",
    "print(ckl([1,5,8,3],3))\n",
    "print(ckl([5,8,3], -1))\n",
    "print(ckl([1,5,8,3],3))"
   ]
  },
  {
   "cell_type": "code",
   "execution_count": null,
   "id": "4933a1fd",
   "metadata": {},
   "outputs": [],
   "source": []
  }
 ],
 "metadata": {
  "kernelspec": {
   "display_name": "Python 3 (ipykernel)",
   "language": "python",
   "name": "python3"
  },
  "language_info": {
   "codemirror_mode": {
    "name": "ipython",
    "version": 3
   },
   "file_extension": ".py",
   "mimetype": "text/x-python",
   "name": "python",
   "nbconvert_exporter": "python",
   "pygments_lexer": "ipython3",
   "version": "3.9.12"
  }
 },
 "nbformat": 4,
 "nbformat_minor": 5
}
