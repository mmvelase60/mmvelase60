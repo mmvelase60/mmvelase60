{
 "cells": [
  {
   "cell_type": "markdown",
   "id": "5bdaef54",
   "metadata": {},
   "source": [
    "# Question 1"
   ]
  },
  {
   "cell_type": "markdown",
   "id": "92c2551a",
   "metadata": {},
   "source": [
    "## Write a Python program which accepts a sequence of comma-separated numbers from user and generate a list and a tuple with those numbers.\n",
    "\n",
    "### Sample data : \n",
    "\n",
    "### 3, 5, 7, 23"
   ]
  },
  {
   "cell_type": "code",
   "execution_count": 2,
   "id": "25653abd",
   "metadata": {},
   "outputs": [
    {
     "name": "stdout",
     "output_type": "stream",
     "text": [
      "Input some comma seprated numbers : 3,5,7,23\n"
     ]
    }
   ],
   "source": [
    "values = input(\"Input some comma seprated numbers : \")"
   ]
  },
  {
   "cell_type": "code",
   "execution_count": 3,
   "id": "9e6b86e4",
   "metadata": {},
   "outputs": [],
   "source": [
    "list = values.split(\",\")"
   ]
  },
  {
   "cell_type": "code",
   "execution_count": 4,
   "id": "1309a5a2",
   "metadata": {},
   "outputs": [],
   "source": [
    "tuple = tuple(list)"
   ]
  },
  {
   "cell_type": "code",
   "execution_count": 5,
   "id": "907c8f8f",
   "metadata": {},
   "outputs": [
    {
     "name": "stdout",
     "output_type": "stream",
     "text": [
      "List :  ['3', '5', '7', '23']\n"
     ]
    }
   ],
   "source": [
    "print('List : ',list)"
   ]
  },
  {
   "cell_type": "code",
   "execution_count": 6,
   "id": "7582d172",
   "metadata": {},
   "outputs": [
    {
     "name": "stdout",
     "output_type": "stream",
     "text": [
      "Tuple :  ('3', '5', '7', '23')\n"
     ]
    }
   ],
   "source": [
    "print('Tuple : ',tuple)"
   ]
  },
  {
   "cell_type": "markdown",
   "id": "0103c339",
   "metadata": {},
   "source": [
    "# Question 2"
   ]
  },
  {
   "cell_type": "markdown",
   "id": "58fc4862",
   "metadata": {},
   "source": [
    "## Write a Python program that accepts an integer (n) and computes the value of n+nn+nnn. \n",
    "\n",
    "### Sample value of n is 5\n",
    "\n",
    "### Expected Result: 615"
   ]
  },
  {
   "cell_type": "code",
   "execution_count": 7,
   "id": "45f06ffa",
   "metadata": {},
   "outputs": [
    {
     "name": "stdout",
     "output_type": "stream",
     "text": [
      "input an integer:5\n"
     ]
    }
   ],
   "source": [
    "a = int(input(\"input an integer:\"))"
   ]
  },
  {
   "cell_type": "code",
   "execution_count": 10,
   "id": "5e995aa7",
   "metadata": {},
   "outputs": [],
   "source": [
    "n1 = int(\"%s\"%a)"
   ]
  },
  {
   "cell_type": "code",
   "execution_count": 11,
   "id": "578c41d3",
   "metadata": {},
   "outputs": [],
   "source": [
    "n2 = int(\"%s%s\"%(a,a))"
   ]
  },
  {
   "cell_type": "code",
   "execution_count": 12,
   "id": "56ae93be",
   "metadata": {},
   "outputs": [],
   "source": [
    "n3 = int(\"%s%s%s\"%(a,a,a))"
   ]
  },
  {
   "cell_type": "code",
   "execution_count": 13,
   "id": "f33c0da2",
   "metadata": {},
   "outputs": [
    {
     "name": "stdout",
     "output_type": "stream",
     "text": [
      "615\n"
     ]
    }
   ],
   "source": [
    "print(n1+n2+n3)"
   ]
  },
  {
   "cell_type": "markdown",
   "id": "aa8250cc",
   "metadata": {},
   "source": [
    "# Question 3"
   ]
  },
  {
   "cell_type": "markdown",
   "id": "393b44a2",
   "metadata": {},
   "source": [
    "## Write a Python program to calculate number of days between two dates\n",
    "### Sample dates: (2014, 7, 2), (2014, 7, 11)\n",
    "### Expected output : 9 days"
   ]
  },
  {
   "cell_type": "code",
   "execution_count": 15,
   "id": "88565102",
   "metadata": {},
   "outputs": [],
   "source": [
    "from datetime import date"
   ]
  },
  {
   "cell_type": "code",
   "execution_count": 16,
   "id": "173d5d42",
   "metadata": {},
   "outputs": [],
   "source": [
    "f_date = date(2014, 7, 2)"
   ]
  },
  {
   "cell_type": "code",
   "execution_count": 17,
   "id": "1b17e96d",
   "metadata": {},
   "outputs": [],
   "source": [
    "l_date = date(2014, 7, 11)"
   ]
  },
  {
   "cell_type": "code",
   "execution_count": 18,
   "id": "2ed72fbf",
   "metadata": {},
   "outputs": [],
   "source": [
    "delta = l_date - f_date"
   ]
  },
  {
   "cell_type": "code",
   "execution_count": 19,
   "id": "22527d4c",
   "metadata": {},
   "outputs": [
    {
     "name": "stdout",
     "output_type": "stream",
     "text": [
      "9\n"
     ]
    }
   ],
   "source": [
    "print(delta.days)"
   ]
  },
  {
   "cell_type": "code",
   "execution_count": null,
   "id": "ae3bd68b",
   "metadata": {},
   "outputs": [],
   "source": []
  }
 ],
 "metadata": {
  "kernelspec": {
   "display_name": "Python 3 (ipykernel)",
   "language": "python",
   "name": "python3"
  },
  "language_info": {
   "codemirror_mode": {
    "name": "ipython",
    "version": 3
   },
   "file_extension": ".py",
   "mimetype": "text/x-python",
   "name": "python",
   "nbconvert_exporter": "python",
   "pygments_lexer": "ipython3",
   "version": "3.9.12"
  }
 },
 "nbformat": 4,
 "nbformat_minor": 5
}
