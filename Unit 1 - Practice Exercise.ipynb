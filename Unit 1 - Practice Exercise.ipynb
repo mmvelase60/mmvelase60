{
 "cells": [
  {
   "cell_type": "markdown",
   "id": "88c391a3",
   "metadata": {},
   "source": [
    "# Question 1"
   ]
  },
  {
   "cell_type": "markdown",
   "id": "c5024396",
   "metadata": {},
   "source": [
    "## Write a Python program to get the Python version you are using."
   ]
  },
  {
   "cell_type": "code",
   "execution_count": 4,
   "id": "6a6adc3c",
   "metadata": {},
   "outputs": [],
   "source": [
    "import sys"
   ]
  },
  {
   "cell_type": "code",
   "execution_count": 5,
   "id": "07b38fe8",
   "metadata": {},
   "outputs": [
    {
     "name": "stdout",
     "output_type": "stream",
     "text": [
      "Python version\n"
     ]
    }
   ],
   "source": [
    "print(\"Python version\")"
   ]
  },
  {
   "cell_type": "code",
   "execution_count": 6,
   "id": "28482ba4",
   "metadata": {},
   "outputs": [
    {
     "name": "stdout",
     "output_type": "stream",
     "text": [
      "3.9.12 (main, Apr  4 2022, 05:22:27) [MSC v.1916 64 bit (AMD64)]\n"
     ]
    }
   ],
   "source": [
    "print (sys.version)"
   ]
  },
  {
   "cell_type": "code",
   "execution_count": 7,
   "id": "2bf64ac9",
   "metadata": {},
   "outputs": [
    {
     "name": "stdout",
     "output_type": "stream",
     "text": [
      "Version info.\n"
     ]
    }
   ],
   "source": [
    "print(\"Version info.\")"
   ]
  },
  {
   "cell_type": "code",
   "execution_count": 8,
   "id": "2c53bc41",
   "metadata": {},
   "outputs": [
    {
     "name": "stdout",
     "output_type": "stream",
     "text": [
      "sys.version_info(major=3, minor=9, micro=12, releaselevel='final', serial=0)\n"
     ]
    }
   ],
   "source": [
    "print (sys.version_info)"
   ]
  },
  {
   "cell_type": "markdown",
   "id": "60c80247",
   "metadata": {},
   "source": [
    "# Question 2"
   ]
  },
  {
   "cell_type": "markdown",
   "id": "94fe0790",
   "metadata": {},
   "source": [
    "## Write a Python program to display the current date and time.\n",
    "### Sample Output :\n",
    "### Current date and time :\n",
    "### 2014-07-05 14:34:14"
   ]
  },
  {
   "cell_type": "code",
   "execution_count": 9,
   "id": "c8c43f32",
   "metadata": {},
   "outputs": [],
   "source": [
    "import datetime"
   ]
  },
  {
   "cell_type": "code",
   "execution_count": 10,
   "id": "d4e54052",
   "metadata": {},
   "outputs": [],
   "source": [
    "now = datetime.datetime.now()"
   ]
  },
  {
   "cell_type": "code",
   "execution_count": 11,
   "id": "a4a94c7f",
   "metadata": {},
   "outputs": [
    {
     "name": "stdout",
     "output_type": "stream",
     "text": [
      "Current date and time : \n"
     ]
    }
   ],
   "source": [
    "print (\"Current date and time : \")"
   ]
  },
  {
   "cell_type": "code",
   "execution_count": 12,
   "id": "76e9c54d",
   "metadata": {},
   "outputs": [
    {
     "name": "stdout",
     "output_type": "stream",
     "text": [
      "2022-07-01 10:32:49\n"
     ]
    }
   ],
   "source": [
    "print (now.strftime(\"%Y-%m-%d %H:%M:%S\"))"
   ]
  },
  {
   "cell_type": "markdown",
   "id": "ebef4ebb",
   "metadata": {},
   "source": [
    "# Question 3"
   ]
  },
  {
   "cell_type": "markdown",
   "id": "3cb72fd0",
   "metadata": {},
   "source": [
    "## Write a Python program which accepts the radius of a circle from the user and compute the area.\n",
    "### Sample Output :\n",
    "### r = 1.1\n",
    "### Area = 3.8013271108436504"
   ]
  },
  {
   "cell_type": "code",
   "execution_count": 13,
   "id": "b8c92df8",
   "metadata": {},
   "outputs": [],
   "source": [
    "from math import pi"
   ]
  },
  {
   "cell_type": "code",
   "execution_count": 14,
   "id": "a564ec7f",
   "metadata": {},
   "outputs": [
    {
     "name": "stdout",
     "output_type": "stream",
     "text": [
      "input the radius of the circle:1.1\n"
     ]
    }
   ],
   "source": [
    "r = float(input(\"input the radius of the circle:\"))"
   ]
  },
  {
   "cell_type": "code",
   "execution_count": 15,
   "id": "ac7b6aa1",
   "metadata": {},
   "outputs": [
    {
     "name": "stdout",
     "output_type": "stream",
     "text": [
      "The area of the circle with radius1.1is:3.8013271108436504\n"
     ]
    }
   ],
   "source": [
    "print(\"The area of the circle with radius\"+str(r)+\"is:\"+str(pi*r**2))"
   ]
  },
  {
   "cell_type": "code",
   "execution_count": null,
   "id": "1f2784cb",
   "metadata": {},
   "outputs": [],
   "source": []
  }
 ],
 "metadata": {
  "kernelspec": {
   "display_name": "Python 3 (ipykernel)",
   "language": "python",
   "name": "python3"
  },
  "language_info": {
   "codemirror_mode": {
    "name": "ipython",
    "version": 3
   },
   "file_extension": ".py",
   "mimetype": "text/x-python",
   "name": "python",
   "nbconvert_exporter": "python",
   "pygments_lexer": "ipython3",
   "version": "3.9.12"
  }
 },
 "nbformat": 4,
 "nbformat_minor": 5
}
