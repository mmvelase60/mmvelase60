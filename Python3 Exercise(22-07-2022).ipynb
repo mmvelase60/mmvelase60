{
 "cells": [
  {
   "cell_type": "code",
   "execution_count": 3,
   "id": "da33bdad",
   "metadata": {},
   "outputs": [
    {
     "name": "stdout",
     "output_type": "stream",
     "text": [
      "os.name                        nt\n",
      "sys.platform                   win32\n",
      "platform.system()              Windows\n",
      "sysconfig.get_platform()       win-amd64\n",
      "platform.machine()             AMD64\n",
      "platform.architecture()        ('64bit', 'WindowsPE')\n"
     ]
    }
   ],
   "source": [
    "import os\n",
    "import sys\n",
    "import platform\n",
    "import sysconfig\n",
    "print(\"os.name                       \",os.name)\n",
    "print(\"sys.platform                  \",sys.platform)\n",
    "print(\"platform.system()             \",platform.system())\n",
    "print(\"sysconfig.get_platform()      \",sysconfig.get_platform())\n",
    "print(\"platform.machine()            \", platform.machine())\n",
    "print(\"platform.architecture()       \",platform.architecture())"
   ]
  },
  {
   "cell_type": "code",
   "execution_count": 4,
   "id": "6a0a5eb9",
   "metadata": {},
   "outputs": [
    {
     "name": "stdout",
     "output_type": "stream",
     "text": [
      "['C:\\\\Users\\\\27721\\\\anaconda3', 'C:\\\\Users\\\\27721\\\\anaconda3\\\\lib\\\\site-packages']\n"
     ]
    }
   ],
   "source": [
    "import site;\n",
    "print(site.getsitepackages())"
   ]
  },
  {
   "cell_type": "code",
   "execution_count": 7,
   "id": "cad6272b",
   "metadata": {},
   "outputs": [
    {
     "name": "stdout",
     "output_type": "stream",
     "text": [
      "1\n"
     ]
    }
   ],
   "source": [
    "import os\n",
    "print(os.system('Is -l'))"
   ]
  },
  {
   "cell_type": "code",
   "execution_count": 8,
   "id": "ded2a290",
   "metadata": {},
   "outputs": [
    {
     "name": "stdout",
     "output_type": "stream",
     "text": [
      "2\n"
     ]
    }
   ],
   "source": [
    "import psutil\n",
    "print (psutil.cpu_count())"
   ]
  },
  {
   "cell_type": "code",
   "execution_count": 10,
   "id": "33a2e999",
   "metadata": {},
   "outputs": [
    {
     "ename": "NameError",
     "evalue": "name '_file_' is not defined",
     "output_type": "error",
     "traceback": [
      "\u001b[1;31m---------------------------------------------------------------------------\u001b[0m",
      "\u001b[1;31mNameError\u001b[0m                                 Traceback (most recent call last)",
      "Input \u001b[1;32mIn [10]\u001b[0m, in \u001b[0;36m<cell line: 2>\u001b[1;34m()\u001b[0m\n\u001b[0;32m      1\u001b[0m \u001b[38;5;28;01mimport\u001b[39;00m \u001b[38;5;21;01mos\u001b[39;00m\n\u001b[1;32m----> 2\u001b[0m \u001b[38;5;28mprint\u001b[39m(\u001b[38;5;124m\"\u001b[39m\u001b[38;5;124mCurrent File Name : \u001b[39m\u001b[38;5;124m\"\u001b[39m,os\u001b[38;5;241m.\u001b[39mpath\u001b[38;5;241m.\u001b[39mrealpath(\u001b[43m_file_\u001b[49m))\n",
      "\u001b[1;31mNameError\u001b[0m: name '_file_' is not defined"
     ]
    }
   ],
   "source": [
    "import os\n",
    "print(\"Current File Name : \",os.path.realpath(__file__))"
   ]
  },
  {
   "cell_type": "code",
   "execution_count": 11,
   "id": "c15d0928",
   "metadata": {},
   "outputs": [
    {
     "name": "stdout",
     "output_type": "stream",
     "text": [
      "2\n"
     ]
    }
   ],
   "source": [
    "import multiprocessing\n",
    "print(multiprocessing.cpu_count())"
   ]
  },
  {
   "cell_type": "code",
   "execution_count": 12,
   "id": "55c315db",
   "metadata": {},
   "outputs": [
    {
     "name": "stdout",
     "output_type": "stream",
     "text": [
      "246.2458\n",
      "246\n"
     ]
    }
   ],
   "source": [
    "n = \"246.2458\"\n",
    "print(float(n))\n",
    "print(int(float(n)))"
   ]
  },
  {
   "cell_type": "code",
   "execution_count": 16,
   "id": "a2c1c291",
   "metadata": {},
   "outputs": [
    {
     "name": "stdout",
     "output_type": "stream",
     "text": [
      "**********\n",
      "\n"
     ]
    }
   ],
   "source": [
    "for i in range(0, 10):\n",
    "    print('*', end=\"\")\n",
    "print(\"\\n\")          "
   ]
  },
  {
   "cell_type": "code",
   "execution_count": 17,
   "id": "be774918",
   "metadata": {},
   "outputs": [
    {
     "name": "stdout",
     "output_type": "stream",
     "text": [
      "3\n",
      "         41 function calls in 0.001 seconds\n",
      "\n",
      "   Ordered by: standard name\n",
      "\n",
      "   ncalls  tottime  percall  cumtime  percall filename:lineno(function)\n",
      "        1    0.000    0.000    0.001    0.001 3867616217.py:2(sum)\n",
      "        1    0.000    0.000    0.001    0.001 <string>:1(<module>)\n",
      "        3    0.000    0.000    0.001    0.000 iostream.py:208(schedule)\n",
      "        2    0.000    0.000    0.000    0.000 iostream.py:420(_is_master_process)\n",
      "        2    0.000    0.000    0.000    0.000 iostream.py:439(_schedule_flush)\n",
      "        2    0.000    0.000    0.001    0.000 iostream.py:502(write)\n",
      "        3    0.000    0.000    0.000    0.000 iostream.py:97(_event_pipe)\n",
      "        3    0.001    0.000    0.001    0.000 socket.py:480(send)\n",
      "        3    0.000    0.000    0.000    0.000 threading.py:1059(_wait_for_tstate_lock)\n",
      "        3    0.000    0.000    0.000    0.000 threading.py:1126(is_alive)\n",
      "        3    0.000    0.000    0.000    0.000 threading.py:529(is_set)\n",
      "        1    0.000    0.000    0.001    0.001 {built-in method builtins.exec}\n",
      "        2    0.000    0.000    0.000    0.000 {built-in method builtins.isinstance}\n",
      "        2    0.000    0.000    0.000    0.000 {built-in method builtins.len}\n",
      "        1    0.000    0.000    0.001    0.001 {built-in method builtins.print}\n",
      "        2    0.000    0.000    0.000    0.000 {built-in method nt.getpid}\n",
      "        3    0.000    0.000    0.000    0.000 {method 'acquire' of '_thread.lock' objects}\n",
      "        3    0.000    0.000    0.000    0.000 {method 'append' of 'collections.deque' objects}\n",
      "        1    0.000    0.000    0.000    0.000 {method 'disable' of '_lsprof.Profiler' objects}\n",
      "\n",
      "\n"
     ]
    }
   ],
   "source": [
    "import cProfile\n",
    "def sum():\n",
    "    print(1+2)\n",
    "cProfile.run('sum()')"
   ]
  },
  {
   "cell_type": "code",
   "execution_count": 18,
   "id": "54e338a8",
   "metadata": {},
   "outputs": [
    {
     "name": "stderr",
     "output_type": "stream",
     "text": [
      "abc--efg--xyz\n"
     ]
    }
   ],
   "source": [
    "from __future__ import print_function\n",
    "import sys\n",
    "\n",
    "def eprint(*args, **kwargs):\n",
    "    print(*args, file=sys.stderr, **kwargs)\n",
    "eprint(\"abc\", \"efg\", \"xyz\", sep=\"--\")"
   ]
  },
  {
   "cell_type": "code",
   "execution_count": 19,
   "id": "4155ff38",
   "metadata": {},
   "outputs": [
    {
     "name": "stdout",
     "output_type": "stream",
     "text": [
      "*----------------------------*\n",
      "environ({'ALLUSERSPROFILE': 'C:\\\\ProgramData', 'APPDATA': 'C:\\\\Users\\\\27721\\\\AppData\\\\Roaming', 'COMMONPROGRAMFILES': 'C:\\\\Program Files\\\\Common Files', 'COMMONPROGRAMFILES(X86)': 'C:\\\\Program Files (x86)\\\\Common Files', 'COMMONPROGRAMW6432': 'C:\\\\Program Files\\\\Common Files', 'COMPUTERNAME': 'LAPTOP-S8HPQ8L3', 'COMSPEC': 'C:\\\\WINDOWS\\\\system32\\\\cmd.exe', 'CONFIGSETROOT': 'C:\\\\WINDOWS\\\\ConfigSetRoot', 'DRIVERDATA': 'C:\\\\Windows\\\\System32\\\\Drivers\\\\DriverData', 'FPS_BROWSER_APP_PROFILE_STRING': 'Internet Explorer', 'FPS_BROWSER_USER_PROFILE_STRING': 'Default', 'HOMEDRIVE': 'C:', 'HOMEPATH': '\\\\Users\\\\27721', 'LOCALAPPDATA': 'C:\\\\Users\\\\27721\\\\AppData\\\\Local', 'LOGONSERVER': '\\\\\\\\LAPTOP-S8HPQ8L3', 'NUMBER_OF_PROCESSORS': '2', 'ONEDRIVE': 'C:\\\\Users\\\\27721\\\\OneDrive - Durban University of Technology', 'ONEDRIVECOMMERCIAL': 'C:\\\\Users\\\\27721\\\\OneDrive - Durban University of Technology', 'OS': 'Windows_NT', 'PATH': 'C:\\\\Users\\\\27721\\\\anaconda3;C:\\\\Users\\\\27721\\\\anaconda3\\\\Library\\\\mingw-w64\\\\bin;C:\\\\Users\\\\27721\\\\anaconda3\\\\Library\\\\usr\\\\bin;C:\\\\Users\\\\27721\\\\anaconda3\\\\Library\\\\bin;C:\\\\Users\\\\27721\\\\anaconda3\\\\Scripts;C:\\\\Program Files (x86)\\\\Intel\\\\TXE Components\\\\TCS\\\\;C:\\\\Program Files\\\\Intel\\\\TXE Components\\\\TCS\\\\;C:\\\\WINDOWS\\\\system32;C:\\\\WINDOWS;C:\\\\WINDOWS\\\\System32\\\\Wbem;C:\\\\WINDOWS\\\\System32\\\\WindowsPowerShell\\\\v1.0\\\\;C:\\\\Program Files\\\\Intel\\\\TXE Components\\\\DAL\\\\;C:\\\\Program Files (x86)\\\\Intel\\\\TXE Components\\\\DAL\\\\;C:\\\\Program Files\\\\Intel\\\\TXE Components\\\\IPT\\\\;C:\\\\Program Files (x86)\\\\Intel\\\\TXE Components\\\\IPT\\\\;C:\\\\WINDOWS\\\\System32\\\\OpenSSH\\\\;C:\\\\Program Files\\\\Microsoft SQL Server\\\\130\\\\Tools\\\\Binn\\\\;C:\\\\Program Files\\\\Microsoft SQL Server\\\\Client SDK\\\\ODBC\\\\170\\\\Tools\\\\Binn\\\\;C:\\\\Program Files (x86)\\\\Microsoft SQL Server\\\\150\\\\Tools\\\\Binn\\\\;C:\\\\Program Files\\\\Microsoft SQL Server\\\\150\\\\Tools\\\\Binn\\\\;C:\\\\Program Files\\\\Microsoft SQL Server\\\\150\\\\DTS\\\\Binn\\\\;C:\\\\Program Files (x86)\\\\Microsoft SQL Server\\\\150\\\\DTS\\\\Binn\\\\;C:\\\\Program Files\\\\Azure Data Studio\\\\bin;C:\\\\Program Files\\\\dotnet\\\\;C:\\\\Program Files (x86)\\\\Microsoft SQL Server\\\\110\\\\DTS\\\\Binn\\\\;C:\\\\Program Files (x86)\\\\Microsoft SQL Server\\\\120\\\\DTS\\\\Binn\\\\;C:\\\\Program Files (x86)\\\\Microsoft SQL Server\\\\130\\\\DTS\\\\Binn\\\\;C:\\\\Program Files (x86)\\\\Microsoft SQL Server\\\\140\\\\DTS\\\\Binn\\\\;C:\\\\Users\\\\27721\\\\AppData\\\\Local\\\\Programs\\\\Python\\\\Python39\\\\Scripts\\\\;C:\\\\Users\\\\27721\\\\AppData\\\\Local\\\\Programs\\\\Python\\\\Python39\\\\;C:\\\\Users\\\\27721\\\\AppData\\\\Local\\\\Microsoft\\\\WindowsApps;;C:\\\\Program Files\\\\JetBrains\\\\PyCharm Community Edition 2021.1.1\\\\bin;;C:\\\\Users\\\\27721\\\\.dotnet\\\\tools;C:\\\\Program Files\\\\Azure Data Studio\\\\bin;C:\\\\Program Files\\\\JetBrains\\\\PyCharm 2021.1.2\\\\bin;', 'PATHEXT': '.COM;.EXE;.BAT;.CMD;.VBS;.VBE;.JS;.JSE;.WSF;.WSH;.MSC', 'PROCESSOR_ARCHITECTURE': 'AMD64', 'PROCESSOR_IDENTIFIER': 'Intel64 Family 6 Model 76 Stepping 4, GenuineIntel', 'PROCESSOR_LEVEL': '6', 'PROCESSOR_REVISION': '4c04', 'PROGRAMDATA': 'C:\\\\ProgramData', 'PROGRAMFILES': 'C:\\\\Program Files', 'PROGRAMFILES(X86)': 'C:\\\\Program Files (x86)', 'PROGRAMW6432': 'C:\\\\Program Files', 'PSMODULEPATH': 'C:\\\\Program Files\\\\WindowsPowerShell\\\\Modules;C:\\\\WINDOWS\\\\system32\\\\WindowsPowerShell\\\\v1.0\\\\Modules;C:\\\\Program Files (x86)\\\\Microsoft SQL Server\\\\150\\\\Tools\\\\PowerShell\\\\Modules\\\\', 'PUBLIC': 'C:\\\\Users\\\\Public', 'PYCHARM': 'C:\\\\Program Files\\\\JetBrains\\\\PyCharm 2021.1.2\\\\bin;', 'PYCHARM COMMUNITY EDITION': 'C:\\\\Program Files\\\\JetBrains\\\\PyCharm Community Edition 2021.1.1\\\\bin;', 'SESSIONNAME': 'Console', 'SYSTEMDRIVE': 'C:', 'SYSTEMROOT': 'C:\\\\WINDOWS', 'TEMP': 'C:\\\\Users\\\\27721\\\\AppData\\\\Local\\\\Temp', 'TIMESHEETCONNECTIONSTRING': 'Data Source=localhost;Initial Catalog=AppFactoryTimeSheet;Integrated Security=True', 'TMP': 'C:\\\\Users\\\\27721\\\\AppData\\\\Local\\\\Temp', 'USERDOMAIN': 'LAPTOP-S8HPQ8L3', 'USERDOMAIN_ROAMINGPROFILE': 'LAPTOP-S8HPQ8L3', 'USERNAME': '27721', 'USERPROFILE': 'C:\\\\Users\\\\27721', 'WINDIR': 'C:\\\\WINDOWS', 'CONDA_PREFIX': 'C:\\\\Users\\\\27721\\\\anaconda3', 'PYDEVD_USE_FRAME_EVAL': 'NO', 'JPY_INTERRUPT_EVENT': '2424', 'IPY_INTERRUPT_EVENT': '2424', 'JPY_PARENT_PID': '2504', 'TERM': 'xterm-color', 'CLICOLOR': '1', 'PAGER': 'cat', 'GIT_PAGER': 'cat', 'MPLBACKEND': 'module://matplotlib_inline.backend_inline'})\n",
      "*----------------------------*\n"
     ]
    },
    {
     "ename": "KeyError",
     "evalue": "'HOME'",
     "output_type": "error",
     "traceback": [
      "\u001b[1;31m---------------------------------------------------------------------------\u001b[0m",
      "\u001b[1;31mKeyError\u001b[0m                                  Traceback (most recent call last)",
      "Input \u001b[1;32mIn [19]\u001b[0m, in \u001b[0;36m<cell line: 7>\u001b[1;34m()\u001b[0m\n\u001b[0;32m      5\u001b[0m \u001b[38;5;28mprint\u001b[39m(\u001b[38;5;124m'\u001b[39m\u001b[38;5;124m*----------------------------*\u001b[39m\u001b[38;5;124m'\u001b[39m)\n\u001b[0;32m      6\u001b[0m \u001b[38;5;66;03m#Access a particular environment variable\u001b[39;00m\n\u001b[1;32m----> 7\u001b[0m \u001b[38;5;28mprint\u001b[39m(\u001b[43mos\u001b[49m\u001b[38;5;241;43m.\u001b[39;49m\u001b[43menviron\u001b[49m\u001b[43m[\u001b[49m\u001b[38;5;124;43m'\u001b[39;49m\u001b[38;5;124;43mHOME\u001b[39;49m\u001b[38;5;124;43m'\u001b[39;49m\u001b[43m]\u001b[49m)\n\u001b[0;32m      8\u001b[0m \u001b[38;5;28mprint\u001b[39m(\u001b[38;5;124m'\u001b[39m\u001b[38;5;124m*-----------------------------*\u001b[39m\u001b[38;5;124m'\u001b[39m)\n\u001b[0;32m      9\u001b[0m \u001b[38;5;28mprint\u001b[39m(os\u001b[38;5;241m.\u001b[39menviron[\u001b[38;5;124m'\u001b[39m\u001b[38;5;124mPATH\u001b[39m\u001b[38;5;124m'\u001b[39m])\n",
      "File \u001b[1;32m~\\anaconda3\\lib\\os.py:679\u001b[0m, in \u001b[0;36m_Environ.__getitem__\u001b[1;34m(self, key)\u001b[0m\n\u001b[0;32m    676\u001b[0m     value \u001b[38;5;241m=\u001b[39m \u001b[38;5;28mself\u001b[39m\u001b[38;5;241m.\u001b[39m_data[\u001b[38;5;28mself\u001b[39m\u001b[38;5;241m.\u001b[39mencodekey(key)]\n\u001b[0;32m    677\u001b[0m \u001b[38;5;28;01mexcept\u001b[39;00m \u001b[38;5;167;01mKeyError\u001b[39;00m:\n\u001b[0;32m    678\u001b[0m     \u001b[38;5;66;03m# raise KeyError with the original key value\u001b[39;00m\n\u001b[1;32m--> 679\u001b[0m     \u001b[38;5;28;01mraise\u001b[39;00m \u001b[38;5;167;01mKeyError\u001b[39;00m(key) \u001b[38;5;28;01mfrom\u001b[39;00m \u001b[38;5;28mNone\u001b[39m\n\u001b[0;32m    680\u001b[0m \u001b[38;5;28;01mreturn\u001b[39;00m \u001b[38;5;28mself\u001b[39m\u001b[38;5;241m.\u001b[39mdecodevalue(value)\n",
      "\u001b[1;31mKeyError\u001b[0m: 'HOME'"
     ]
    }
   ],
   "source": [
    "import os\n",
    "#Access all environment variables\n",
    "print('*----------------------------*')\n",
    "print(os.environ)\n",
    "print('*----------------------------*')\n",
    "#Access a particular environment variable\n",
    "print(os.environ['HOME'])\n",
    "print('*-----------------------------*')\n",
    "print(os.environ['PATH'])\n",
    "print('*----------------------------*')"
   ]
  },
  {
   "cell_type": "code",
   "execution_count": 20,
   "id": "6a8431be",
   "metadata": {},
   "outputs": [
    {
     "name": "stdout",
     "output_type": "stream",
     "text": [
      "ALLUSERSPROFILE\n",
      "---------------\n",
      "C:\\ProgramData\n",
      "==============================\n",
      "APPDATA\n",
      "---------------\n",
      "C:\\Users\\27721\\AppData\\Roaming\n",
      "==============================\n",
      "COMMONPROGRAMFILES\n",
      "---------------\n",
      "C:\\Program Files\\Common Files\n",
      "==============================\n",
      "COMMONPROGRAMFILES(X86)\n",
      "---------------\n",
      "C:\\Program Files (x86)\\Common Files\n",
      "==============================\n",
      "COMMONPROGRAMW6432\n",
      "---------------\n",
      "C:\\Program Files\\Common Files\n",
      "==============================\n",
      "COMPUTERNAME\n",
      "---------------\n",
      "LAPTOP-S8HPQ8L3\n",
      "==============================\n",
      "COMSPEC\n",
      "---------------\n",
      "C:\\WINDOWS\\system32\\cmd.exe\n",
      "==============================\n",
      "CONFIGSETROOT\n",
      "---------------\n",
      "C:\\WINDOWS\\ConfigSetRoot\n",
      "==============================\n",
      "DRIVERDATA\n",
      "---------------\n",
      "C:\\Windows\\System32\\Drivers\\DriverData\n",
      "==============================\n",
      "FPS_BROWSER_APP_PROFILE_STRING\n",
      "---------------\n",
      "Internet Explorer\n",
      "==============================\n",
      "FPS_BROWSER_USER_PROFILE_STRING\n",
      "---------------\n",
      "Default\n",
      "==============================\n",
      "HOMEDRIVE\n",
      "---------------\n",
      "C:\n",
      "==============================\n",
      "HOMEPATH\n",
      "---------------\n",
      "\\Users\\27721\n",
      "==============================\n",
      "LOCALAPPDATA\n",
      "---------------\n",
      "C:\\Users\\27721\\AppData\\Local\n",
      "==============================\n",
      "LOGONSERVER\n",
      "---------------\n",
      "\\\\LAPTOP-S8HPQ8L3\n",
      "==============================\n",
      "NUMBER_OF_PROCESSORS\n",
      "---------------\n",
      "2\n",
      "==============================\n",
      "ONEDRIVE\n",
      "---------------\n",
      "C:\\Users\\27721\\OneDrive - Durban University of Technology\n",
      "==============================\n",
      "ONEDRIVECOMMERCIAL\n",
      "---------------\n",
      "C:\\Users\\27721\\OneDrive - Durban University of Technology\n",
      "==============================\n",
      "OS\n",
      "---------------\n",
      "Windows_NT\n",
      "==============================\n",
      "PATH\n",
      "---------------\n",
      "C:\\Users\\27721\\anaconda3;C:\\Users\\27721\\anaconda3\\Library\\mingw-w64\\bin;C:\\Users\\27721\\anaconda3\\Library\\usr\\bin;C:\\Users\\27721\\anaconda3\\Library\\bin;C:\\Users\\27721\\anaconda3\\Scripts;C:\\Program Files (x86)\\Intel\\TXE Components\\TCS\\;C:\\Program Files\\Intel\\TXE Components\\TCS\\;C:\\WINDOWS\\system32;C:\\WINDOWS;C:\\WINDOWS\\System32\\Wbem;C:\\WINDOWS\\System32\\WindowsPowerShell\\v1.0\\;C:\\Program Files\\Intel\\TXE Components\\DAL\\;C:\\Program Files (x86)\\Intel\\TXE Components\\DAL\\;C:\\Program Files\\Intel\\TXE Components\\IPT\\;C:\\Program Files (x86)\\Intel\\TXE Components\\IPT\\;C:\\WINDOWS\\System32\\OpenSSH\\;C:\\Program Files\\Microsoft SQL Server\\130\\Tools\\Binn\\;C:\\Program Files\\Microsoft SQL Server\\Client SDK\\ODBC\\170\\Tools\\Binn\\;C:\\Program Files (x86)\\Microsoft SQL Server\\150\\Tools\\Binn\\;C:\\Program Files\\Microsoft SQL Server\\150\\Tools\\Binn\\;C:\\Program Files\\Microsoft SQL Server\\150\\DTS\\Binn\\;C:\\Program Files (x86)\\Microsoft SQL Server\\150\\DTS\\Binn\\;C:\\Program Files\\Azure Data Studio\\bin;C:\\Program Files\\dotnet\\;C:\\Program Files (x86)\\Microsoft SQL Server\\110\\DTS\\Binn\\;C:\\Program Files (x86)\\Microsoft SQL Server\\120\\DTS\\Binn\\;C:\\Program Files (x86)\\Microsoft SQL Server\\130\\DTS\\Binn\\;C:\\Program Files (x86)\\Microsoft SQL Server\\140\\DTS\\Binn\\;C:\\Users\\27721\\AppData\\Local\\Programs\\Python\\Python39\\Scripts\\;C:\\Users\\27721\\AppData\\Local\\Programs\\Python\\Python39\\;C:\\Users\\27721\\AppData\\Local\\Microsoft\\WindowsApps;;C:\\Program Files\\JetBrains\\PyCharm Community Edition 2021.1.1\\bin;;C:\\Users\\27721\\.dotnet\\tools;C:\\Program Files\\Azure Data Studio\\bin;C:\\Program Files\\JetBrains\\PyCharm 2021.1.2\\bin;\n",
      "==============================\n",
      "PATHEXT\n",
      "---------------\n",
      ".COM;.EXE;.BAT;.CMD;.VBS;.VBE;.JS;.JSE;.WSF;.WSH;.MSC\n",
      "==============================\n",
      "PROCESSOR_ARCHITECTURE\n",
      "---------------\n",
      "AMD64\n",
      "==============================\n",
      "PROCESSOR_IDENTIFIER\n",
      "---------------\n",
      "Intel64 Family 6 Model 76 Stepping 4, GenuineIntel\n",
      "==============================\n",
      "PROCESSOR_LEVEL\n",
      "---------------\n",
      "6\n",
      "==============================\n",
      "PROCESSOR_REVISION\n",
      "---------------\n",
      "4c04\n",
      "==============================\n",
      "PROGRAMDATA\n",
      "---------------\n",
      "C:\\ProgramData\n",
      "==============================\n",
      "PROGRAMFILES\n",
      "---------------\n",
      "C:\\Program Files\n",
      "==============================\n",
      "PROGRAMFILES(X86)\n",
      "---------------\n",
      "C:\\Program Files (x86)\n",
      "==============================\n",
      "PROGRAMW6432\n",
      "---------------\n",
      "C:\\Program Files\n",
      "==============================\n",
      "PSMODULEPATH\n",
      "---------------\n",
      "C:\\Program Files\\WindowsPowerShell\\Modules;C:\\WINDOWS\\system32\\WindowsPowerShell\\v1.0\\Modules;C:\\Program Files (x86)\\Microsoft SQL Server\\150\\Tools\\PowerShell\\Modules\\\n",
      "==============================\n",
      "PUBLIC\n",
      "---------------\n",
      "C:\\Users\\Public\n",
      "==============================\n",
      "PYCHARM\n",
      "---------------\n",
      "C:\\Program Files\\JetBrains\\PyCharm 2021.1.2\\bin;\n",
      "==============================\n",
      "PYCHARM COMMUNITY EDITION\n",
      "---------------\n",
      "C:\\Program Files\\JetBrains\\PyCharm Community Edition 2021.1.1\\bin;\n",
      "==============================\n",
      "SESSIONNAME\n",
      "---------------\n",
      "Console\n",
      "==============================\n",
      "SYSTEMDRIVE\n",
      "---------------\n",
      "C:\n",
      "==============================\n",
      "SYSTEMROOT\n",
      "---------------\n",
      "C:\\WINDOWS\n",
      "==============================\n",
      "TEMP\n",
      "---------------\n",
      "C:\\Users\\27721\\AppData\\Local\\Temp\n",
      "==============================\n",
      "TIMESHEETCONNECTIONSTRING\n",
      "---------------\n",
      "Data Source=localhost;Initial Catalog=AppFactoryTimeSheet;Integrated Security=True\n",
      "==============================\n",
      "TMP\n",
      "---------------\n",
      "C:\\Users\\27721\\AppData\\Local\\Temp\n",
      "==============================\n",
      "USERDOMAIN\n",
      "---------------\n",
      "LAPTOP-S8HPQ8L3\n",
      "==============================\n",
      "USERDOMAIN_ROAMINGPROFILE\n",
      "---------------\n",
      "LAPTOP-S8HPQ8L3\n",
      "==============================\n",
      "USERNAME\n",
      "---------------\n",
      "27721\n",
      "==============================\n",
      "USERPROFILE\n",
      "---------------\n",
      "C:\\Users\\27721\n",
      "==============================\n",
      "WINDIR\n",
      "---------------\n",
      "C:\\WINDOWS\n",
      "==============================\n",
      "CONDA_PREFIX\n",
      "---------------\n",
      "C:\\Users\\27721\\anaconda3\n",
      "==============================\n",
      "PYDEVD_USE_FRAME_EVAL\n",
      "---------------\n",
      "NO\n",
      "==============================\n",
      "JPY_INTERRUPT_EVENT\n",
      "---------------\n",
      "2424\n",
      "==============================\n",
      "IPY_INTERRUPT_EVENT\n",
      "---------------\n",
      "2424\n",
      "==============================\n",
      "JPY_PARENT_PID\n",
      "---------------\n",
      "2504\n",
      "==============================\n",
      "TERM\n",
      "---------------\n",
      "xterm-color\n",
      "==============================\n",
      "CLICOLOR\n",
      "---------------\n",
      "1\n",
      "==============================\n",
      "PAGER\n",
      "---------------\n",
      "cat\n",
      "==============================\n",
      "GIT_PAGER\n",
      "---------------\n",
      "cat\n",
      "==============================\n",
      "MPLBACKEND\n",
      "---------------\n",
      "module://matplotlib_inline.backend_inline\n",
      "==============================\n"
     ]
    }
   ],
   "source": [
    "import os\n",
    "for data in os.environ:\n",
    "    print(data)\n",
    "    print('-'*15)\n",
    "    print(os.environ[data])\n",
    "    print('='*30)"
   ]
  },
  {
   "cell_type": "code",
   "execution_count": 21,
   "id": "12723f1b",
   "metadata": {},
   "outputs": [
    {
     "name": "stdout",
     "output_type": "stream",
     "text": [
      "ALLUSERSPROFILE: C:\\ProgramData\n",
      "APPDATA: C:\\Users\\27721\\AppData\\Roaming\n",
      "COMMONPROGRAMFILES: C:\\Program Files\\Common Files\n",
      "COMMONPROGRAMFILES(X86): C:\\Program Files (x86)\\Common Files\n",
      "COMMONPROGRAMW6432: C:\\Program Files\\Common Files\n",
      "COMPUTERNAME: LAPTOP-S8HPQ8L3\n",
      "COMSPEC: C:\\WINDOWS\\system32\\cmd.exe\n",
      "CONFIGSETROOT: C:\\WINDOWS\\ConfigSetRoot\n",
      "DRIVERDATA: C:\\Windows\\System32\\Drivers\\DriverData\n",
      "FPS_BROWSER_APP_PROFILE_STRING: Internet Explorer\n",
      "FPS_BROWSER_USER_PROFILE_STRING: Default\n",
      "HOMEDRIVE: C:\n",
      "HOMEPATH: \\Users\\27721\n",
      "LOCALAPPDATA: C:\\Users\\27721\\AppData\\Local\n",
      "LOGONSERVER: \\\\LAPTOP-S8HPQ8L3\n",
      "NUMBER_OF_PROCESSORS: 2\n",
      "ONEDRIVE: C:\\Users\\27721\\OneDrive - Durban University of Technology\n",
      "ONEDRIVECOMMERCIAL: C:\\Users\\27721\\OneDrive - Durban University of Technology\n",
      "OS: Windows_NT\n",
      "PATH: C:\\Users\\27721\\anaconda3;C:\\Users\\27721\\anaconda3\\Library\\mingw-w64\\bin;C:\\Users\\27721\\anaconda3\\Library\\usr\\bin;C:\\Users\\27721\\anaconda3\\Library\\bin;C:\\Users\\27721\\anaconda3\\Scripts;C:\\Program Files (x86)\\Intel\\TXE Components\\TCS\\;C:\\Program Files\\Intel\\TXE Components\\TCS\\;C:\\WINDOWS\\system32;C:\\WINDOWS;C:\\WINDOWS\\System32\\Wbem;C:\\WINDOWS\\System32\\WindowsPowerShell\\v1.0\\;C:\\Program Files\\Intel\\TXE Components\\DAL\\;C:\\Program Files (x86)\\Intel\\TXE Components\\DAL\\;C:\\Program Files\\Intel\\TXE Components\\IPT\\;C:\\Program Files (x86)\\Intel\\TXE Components\\IPT\\;C:\\WINDOWS\\System32\\OpenSSH\\;C:\\Program Files\\Microsoft SQL Server\\130\\Tools\\Binn\\;C:\\Program Files\\Microsoft SQL Server\\Client SDK\\ODBC\\170\\Tools\\Binn\\;C:\\Program Files (x86)\\Microsoft SQL Server\\150\\Tools\\Binn\\;C:\\Program Files\\Microsoft SQL Server\\150\\Tools\\Binn\\;C:\\Program Files\\Microsoft SQL Server\\150\\DTS\\Binn\\;C:\\Program Files (x86)\\Microsoft SQL Server\\150\\DTS\\Binn\\;C:\\Program Files\\Azure Data Studio\\bin;C:\\Program Files\\dotnet\\;C:\\Program Files (x86)\\Microsoft SQL Server\\110\\DTS\\Binn\\;C:\\Program Files (x86)\\Microsoft SQL Server\\120\\DTS\\Binn\\;C:\\Program Files (x86)\\Microsoft SQL Server\\130\\DTS\\Binn\\;C:\\Program Files (x86)\\Microsoft SQL Server\\140\\DTS\\Binn\\;C:\\Users\\27721\\AppData\\Local\\Programs\\Python\\Python39\\Scripts\\;C:\\Users\\27721\\AppData\\Local\\Programs\\Python\\Python39\\;C:\\Users\\27721\\AppData\\Local\\Microsoft\\WindowsApps;;C:\\Program Files\\JetBrains\\PyCharm Community Edition 2021.1.1\\bin;;C:\\Users\\27721\\.dotnet\\tools;C:\\Program Files\\Azure Data Studio\\bin;C:\\Program Files\\JetBrains\\PyCharm 2021.1.2\\bin;\n",
      "PATHEXT: .COM;.EXE;.BAT;.CMD;.VBS;.VBE;.JS;.JSE;.WSF;.WSH;.MSC\n",
      "PROCESSOR_ARCHITECTURE: AMD64\n",
      "PROCESSOR_IDENTIFIER: Intel64 Family 6 Model 76 Stepping 4, GenuineIntel\n",
      "PROCESSOR_LEVEL: 6\n",
      "PROCESSOR_REVISION: 4c04\n",
      "PROGRAMDATA: C:\\ProgramData\n",
      "PROGRAMFILES: C:\\Program Files\n",
      "PROGRAMFILES(X86): C:\\Program Files (x86)\n",
      "PROGRAMW6432: C:\\Program Files\n",
      "PSMODULEPATH: C:\\Program Files\\WindowsPowerShell\\Modules;C:\\WINDOWS\\system32\\WindowsPowerShell\\v1.0\\Modules;C:\\Program Files (x86)\\Microsoft SQL Server\\150\\Tools\\PowerShell\\Modules\\\n",
      "PUBLIC: C:\\Users\\Public\n",
      "PYCHARM: C:\\Program Files\\JetBrains\\PyCharm 2021.1.2\\bin;\n",
      "PYCHARM COMMUNITY EDITION: C:\\Program Files\\JetBrains\\PyCharm Community Edition 2021.1.1\\bin;\n",
      "SESSIONNAME: Console\n",
      "SYSTEMDRIVE: C:\n",
      "SYSTEMROOT: C:\\WINDOWS\n",
      "TEMP: C:\\Users\\27721\\AppData\\Local\\Temp\n",
      "TIMESHEETCONNECTIONSTRING: Data Source=localhost;Initial Catalog=AppFactoryTimeSheet;Integrated Security=True\n",
      "TMP: C:\\Users\\27721\\AppData\\Local\\Temp\n",
      "USERDOMAIN: LAPTOP-S8HPQ8L3\n",
      "USERDOMAIN_ROAMINGPROFILE: LAPTOP-S8HPQ8L3\n",
      "USERNAME: 27721\n",
      "USERPROFILE: C:\\Users\\27721\n",
      "WINDIR: C:\\WINDOWS\n",
      "CONDA_PREFIX: C:\\Users\\27721\\anaconda3\n",
      "PYDEVD_USE_FRAME_EVAL: NO\n",
      "JPY_INTERRUPT_EVENT: 2424\n",
      "IPY_INTERRUPT_EVENT: 2424\n",
      "JPY_PARENT_PID: 2504\n",
      "TERM: xterm-color\n",
      "CLICOLOR: 1\n",
      "PAGER: cat\n",
      "GIT_PAGER: cat\n",
      "MPLBACKEND: module://matplotlib_inline.backend_inline\n"
     ]
    }
   ],
   "source": [
    "import os\n",
    "for item, value in os.environ.items():\n",
    "    print('{}: {}'.format(item, value))"
   ]
  },
  {
   "cell_type": "code",
   "execution_count": 22,
   "id": "7916aceb",
   "metadata": {},
   "outputs": [
    {
     "name": "stdout",
     "output_type": "stream",
     "text": [
      "27721\n"
     ]
    }
   ],
   "source": [
    "import getpass\n",
    "print(getpass.getuser())"
   ]
  },
  {
   "cell_type": "code",
   "execution_count": 24,
   "id": "213669cb",
   "metadata": {},
   "outputs": [
    {
     "name": "stdout",
     "output_type": "stream",
     "text": [
      "192.168.43.209\n"
     ]
    }
   ],
   "source": [
    "import socket\n",
    "print([l for l in ([ip for ip in socket.gethostbyname_ex(socket.gethostname())[2]\n",
    "if not ip.startswith(\"127.\")][:1], [[(s.connect(('8.8.8.8', 53)),\n",
    "s.getsockname()[0], s.close()) for s in [socket.socket(socket.AF_INET, \n",
    "socket.SOCK_DGRAM)]][0][1]]) if l][0][0])"
   ]
  },
  {
   "cell_type": "code",
   "execution_count": 27,
   "id": "82321966",
   "metadata": {},
   "outputs": [
    {
     "ename": "ModuleNotFoundError",
     "evalue": "No module named 'fcnt1'",
     "output_type": "error",
     "traceback": [
      "\u001b[1;31m---------------------------------------------------------------------------\u001b[0m",
      "\u001b[1;31mModuleNotFoundError\u001b[0m                       Traceback (most recent call last)",
      "Input \u001b[1;32mIn [27]\u001b[0m, in \u001b[0;36m<cell line: 7>\u001b[1;34m()\u001b[0m\n\u001b[0;32m      3\u001b[0m     th, tw, hp, wp \u001b[38;5;241m=\u001b[39m struct\u001b[38;5;241m.\u001b[39munpack(\u001b[38;5;124m'\u001b[39m\u001b[38;5;124mHHHH\u001b[39m\u001b[38;5;124m'\u001b[39m,\n\u001b[0;32m      4\u001b[0m         fcnt1\u001b[38;5;241m.\u001b[39mioctl(\u001b[38;5;241m0\u001b[39m,termios\u001b[38;5;241m.\u001b[39mTIOCGWINSZ,\n\u001b[0;32m      5\u001b[0m         struct\u001b[38;5;241m.\u001b[39mpack(\u001b[38;5;124m'\u001b[39m\u001b[38;5;124mHHHH\u001b[39m\u001b[38;5;124m'\u001b[39m,\u001b[38;5;241m0\u001b[39m, \u001b[38;5;241m0\u001b[39m, \u001b[38;5;241m0\u001b[39m, \u001b[38;5;241m0\u001b[39m)))\n\u001b[0;32m      6\u001b[0m     \u001b[38;5;28;01mreturn\u001b[39;00m tw, th\n\u001b[1;32m----> 7\u001b[0m \u001b[38;5;28mprint\u001b[39m(\u001b[38;5;124m'\u001b[39m\u001b[38;5;124mnumber of columns and rows: \u001b[39m\u001b[38;5;124m'\u001b[39m,\u001b[43mterminal_size\u001b[49m\u001b[43m(\u001b[49m\u001b[43m)\u001b[49m)\n",
      "Input \u001b[1;32mIn [27]\u001b[0m, in \u001b[0;36mterminal_size\u001b[1;34m()\u001b[0m\n\u001b[0;32m      1\u001b[0m \u001b[38;5;28;01mdef\u001b[39;00m \u001b[38;5;21mterminal_size\u001b[39m():\n\u001b[1;32m----> 2\u001b[0m     \u001b[38;5;28;01mimport\u001b[39;00m \u001b[38;5;21;01mfcnt1\u001b[39;00m\u001b[38;5;241m,\u001b[39m \u001b[38;5;21;01mtermios\u001b[39;00m\u001b[38;5;241m,\u001b[39m \u001b[38;5;21;01mstruct\u001b[39;00m\n\u001b[0;32m      3\u001b[0m     th, tw, hp, wp \u001b[38;5;241m=\u001b[39m struct\u001b[38;5;241m.\u001b[39munpack(\u001b[38;5;124m'\u001b[39m\u001b[38;5;124mHHHH\u001b[39m\u001b[38;5;124m'\u001b[39m,\n\u001b[0;32m      4\u001b[0m         fcnt1\u001b[38;5;241m.\u001b[39mioctl(\u001b[38;5;241m0\u001b[39m,termios\u001b[38;5;241m.\u001b[39mTIOCGWINSZ,\n\u001b[0;32m      5\u001b[0m         struct\u001b[38;5;241m.\u001b[39mpack(\u001b[38;5;124m'\u001b[39m\u001b[38;5;124mHHHH\u001b[39m\u001b[38;5;124m'\u001b[39m,\u001b[38;5;241m0\u001b[39m, \u001b[38;5;241m0\u001b[39m, \u001b[38;5;241m0\u001b[39m, \u001b[38;5;241m0\u001b[39m)))\n\u001b[0;32m      6\u001b[0m     \u001b[38;5;28;01mreturn\u001b[39;00m tw, th\n",
      "\u001b[1;31mModuleNotFoundError\u001b[0m: No module named 'fcnt1'"
     ]
    }
   ],
   "source": [
    "def terminal_size():\n",
    "    import fcntl, termios, struct\n",
    "    th, tw, hp, wp = struct.unpack('HHHH',\n",
    "        fcntl.ioctl(0,termios.TIOCGWINSZ,\n",
    "        struct.pack('HHHH',0, 0, 0, 0)))\n",
    "    return tw, th\n",
    "print('number of columns and rows: ',terminal_size())"
   ]
  },
  {
   "cell_type": "code",
   "execution_count": 28,
   "id": "5a37c120",
   "metadata": {},
   "outputs": [
    {
     "name": "stdout",
     "output_type": "stream",
     "text": [
      "\n",
      "Time to sum of 1 to  5 and required time to calculate is : (5, 0.0)\n"
     ]
    }
   ],
   "source": [
    "import time\n",
    "def sum_of_n_numbers(n):\n",
    "    start_time = time.time()\n",
    "    s = 0\n",
    "    for i in range(1, n+1):\n",
    "        s = s + 1\n",
    "    end_time = time.time()\n",
    "    return s,end_time-start_time\n",
    "n = 5\n",
    "print(\"\\nTime to sum of 1 to \", n,\"and required time to calculate is :\",sum_of_n_numbers(n))"
   ]
  },
  {
   "cell_type": "code",
   "execution_count": 31,
   "id": "d98c1139",
   "metadata": {},
   "outputs": [
    {
     "name": "stdout",
     "output_type": "stream",
     "text": [
      "Input a number: 2\n",
      "Sum of the first 2 positive integers: 3.0\n"
     ]
    }
   ],
   "source": [
    "n = int(input(\"Input a number: \"))\n",
    "sum_num = (n * (n + 1)) / 2\n",
    "print(\"Sum of the first\", n ,\"positive integers:\", sum_num)"
   ]
  },
  {
   "cell_type": "code",
   "execution_count": 32,
   "id": "18719e18",
   "metadata": {},
   "outputs": [
    {
     "name": "stdout",
     "output_type": "stream",
     "text": [
      "Input a number: 2\n"
     ]
    },
    {
     "ename": "TypeError",
     "evalue": "sum() takes 0 positional arguments but 1 was given",
     "output_type": "error",
     "traceback": [
      "\u001b[1;31m---------------------------------------------------------------------------\u001b[0m",
      "\u001b[1;31mTypeError\u001b[0m                                 Traceback (most recent call last)",
      "Input \u001b[1;32mIn [32]\u001b[0m, in \u001b[0;36m<cell line: 2>\u001b[1;34m()\u001b[0m\n\u001b[0;32m      1\u001b[0m n \u001b[38;5;241m=\u001b[39m \u001b[38;5;28mint\u001b[39m(\u001b[38;5;28minput\u001b[39m(\u001b[38;5;124m\"\u001b[39m\u001b[38;5;124mInput a number: \u001b[39m\u001b[38;5;124m\"\u001b[39m))\n\u001b[1;32m----> 2\u001b[0m result \u001b[38;5;241m=\u001b[39m \u001b[38;5;28;43msum\u001b[39;49m\u001b[43m(\u001b[49m\u001b[38;5;28;43mrange\u001b[39;49m\u001b[43m(\u001b[49m\u001b[43mn\u001b[49m\u001b[38;5;241;43m+\u001b[39;49m\u001b[38;5;241;43m1\u001b[39;49m\u001b[43m)\u001b[49m\u001b[43m)\u001b[49m\n\u001b[0;32m      3\u001b[0m \u001b[38;5;28mprint\u001b[39m(\u001b[38;5;124m\"\u001b[39m\u001b[38;5;124mSum of the first\u001b[39m\u001b[38;5;124m\"\u001b[39m, n ,\u001b[38;5;124m\"\u001b[39m\u001b[38;5;124mpositive integers:\u001b[39m\u001b[38;5;124m\"\u001b[39m, result)\n",
      "\u001b[1;31mTypeError\u001b[0m: sum() takes 0 positional arguments but 1 was given"
     ]
    }
   ],
   "source": [
    "n = int(input(\"Input a number: \"))\n",
    "result = sum(range(n+1))\n",
    "print(\"Sum of the first\", n ,\"positive integers:\", result)"
   ]
  },
  {
   "cell_type": "code",
   "execution_count": null,
   "id": "632bc6b8",
   "metadata": {},
   "outputs": [],
   "source": []
  }
 ],
 "metadata": {
  "kernelspec": {
   "display_name": "Python 3 (ipykernel)",
   "language": "python",
   "name": "python3"
  },
  "language_info": {
   "codemirror_mode": {
    "name": "ipython",
    "version": 3
   },
   "file_extension": ".py",
   "mimetype": "text/x-python",
   "name": "python",
   "nbconvert_exporter": "python",
   "pygments_lexer": "ipython3",
   "version": "3.9.12"
  }
 },
 "nbformat": 4,
 "nbformat_minor": 5
}
