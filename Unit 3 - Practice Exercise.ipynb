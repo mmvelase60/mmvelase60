{
 "cells": [
  {
   "cell_type": "markdown",
   "id": "a195e5a6",
   "metadata": {},
   "source": [
    "# Question 1"
   ]
  },
  {
   "cell_type": "markdown",
   "id": "d95404ca",
   "metadata": {},
   "source": [
    "## Write a Python program which accepts the user's first and last name and print them in reverse order with a space between them."
   ]
  },
  {
   "cell_type": "code",
   "execution_count": 1,
   "id": "95be2aac",
   "metadata": {},
   "outputs": [
    {
     "name": "stdout",
     "output_type": "stream",
     "text": [
      "Input your First Name:mthokozisi\n"
     ]
    }
   ],
   "source": [
    "f_name = input(\"Input your First Name:\")"
   ]
  },
  {
   "cell_type": "code",
   "execution_count": 4,
   "id": "cd223ad6",
   "metadata": {},
   "outputs": [
    {
     "name": "stdout",
     "output_type": "stream",
     "text": [
      "Input your Last Name:mvelase\n"
     ]
    }
   ],
   "source": [
    "l_name = input(\"Input your Last Name:\")"
   ]
  },
  {
   "cell_type": "code",
   "execution_count": 6,
   "id": "7e2847ad",
   "metadata": {},
   "outputs": [
    {
     "name": "stdout",
     "output_type": "stream",
     "text": [
      "Hellomvelasemvelase\n"
     ]
    }
   ],
   "source": [
    "print(\"Hello\"+ l_name + \"\" + f_name)"
   ]
  },
  {
   "cell_type": "markdown",
   "id": "6e1c724c",
   "metadata": {},
   "source": [
    "# Question 2"
   ]
  },
  {
   "cell_type": "markdown",
   "id": "ac77d11c",
   "metadata": {},
   "source": [
    "## Write a Python program to display the first and last colors from the following list.\n",
    "\n",
    "### color_list = [\"Red\",\"Green\",\"White\" ,\"Black\"]"
   ]
  },
  {
   "cell_type": "code",
   "execution_count": 7,
   "id": "c44db4e8",
   "metadata": {},
   "outputs": [],
   "source": [
    "color_list = [\"Red\",\"Green\",\"White\",\"Black\"]"
   ]
  },
  {
   "cell_type": "code",
   "execution_count": 8,
   "id": "ff30af6d",
   "metadata": {},
   "outputs": [
    {
     "name": "stdout",
     "output_type": "stream",
     "text": [
      "RedBlack\n"
     ]
    }
   ],
   "source": [
    "print(\"%s%s\"%(color_list[0], color_list[-1]))"
   ]
  },
  {
   "cell_type": "markdown",
   "id": "43d92b3b",
   "metadata": {},
   "source": [
    "# Question 3"
   ]
  },
  {
   "cell_type": "markdown",
   "id": "3ebbabf5",
   "metadata": {},
   "source": [
    "## Write a Python program to get a new string from a given string where \"Is\" has been added to the front. If the given string already begins with \"Is\" then return the string unchanged."
   ]
  },
  {
   "cell_type": "code",
   "execution_count": 10,
   "id": "81663cca",
   "metadata": {},
   "outputs": [],
   "source": [
    "def new_string(str):\n",
    "  if len(str) >= 2 and str[:2] == \"Is\":\n",
    "    return str\n",
    "  return \"Is\" + str"
   ]
  },
  {
   "cell_type": "code",
   "execution_count": 11,
   "id": "ad900d1b",
   "metadata": {},
   "outputs": [
    {
     "name": "stdout",
     "output_type": "stream",
     "text": [
      "IsArray\n"
     ]
    }
   ],
   "source": [
    "print(new_string(\"Array\"))"
   ]
  },
  {
   "cell_type": "code",
   "execution_count": 12,
   "id": "0c779a74",
   "metadata": {},
   "outputs": [
    {
     "name": "stdout",
     "output_type": "stream",
     "text": [
      "IsEmpty\n"
     ]
    }
   ],
   "source": [
    "print(new_string(\"IsEmpty\"))"
   ]
  },
  {
   "cell_type": "code",
   "execution_count": null,
   "id": "d1010b12",
   "metadata": {},
   "outputs": [],
   "source": []
  }
 ],
 "metadata": {
  "kernelspec": {
   "display_name": "Python 3 (ipykernel)",
   "language": "python",
   "name": "python3"
  },
  "language_info": {
   "codemirror_mode": {
    "name": "ipython",
    "version": 3
   },
   "file_extension": ".py",
   "mimetype": "text/x-python",
   "name": "python",
   "nbconvert_exporter": "python",
   "pygments_lexer": "ipython3",
   "version": "3.9.12"
  }
 },
 "nbformat": 4,
 "nbformat_minor": 5
}
