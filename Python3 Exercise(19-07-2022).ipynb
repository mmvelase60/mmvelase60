{
 "cells": [
  {
   "cell_type": "code",
   "execution_count": 1,
   "id": "0e3d4c43",
   "metadata": {},
   "outputs": [
    {
     "name": "stdout",
     "output_type": "stream",
     "text": [
      "Please enter number5\n",
      "Please enter number3\n",
      "8\n"
     ]
    }
   ],
   "source": [
    "num1 = int(input(\"Please enter number\"))\n",
    "num2 = int(input(\"Please enter number\"))\n",
    "sum = num1 + num2\n",
    "print(sum)"
   ]
  },
  {
   "cell_type": "code",
   "execution_count": 2,
   "id": "cce8b6dd",
   "metadata": {},
   "outputs": [
    {
     "name": "stdout",
     "output_type": "stream",
     "text": [
      "Sum of 15 and 12 is 27\n"
     ]
    }
   ],
   "source": [
    "num1 = 15\n",
    "num2 = 12\n",
    "\n",
    "sum = num1 + num2\n",
    "\n",
    "print(\"Sum of {0} and {1} is {2}\" .format(num1, num2, sum))\n"
   ]
  },
  {
   "cell_type": "code",
   "execution_count": 3,
   "id": "0b6aa699",
   "metadata": {},
   "outputs": [
    {
     "name": "stdout",
     "output_type": "stream",
     "text": [
      "First number: 5\n",
      "\n",
      "Second number: 6\n",
      "The sum of 5 and 6 is 11.0\n"
     ]
    }
   ],
   "source": [
    "# Python3 program to add two numbers\n",
    "\n",
    "number1 = input(\"First number: \")\n",
    "number2 = input(\"\\nSecond number: \")\n",
    "\n",
    "# Adding two numbers\n",
    "# User might also enter float numbers\n",
    "sum = float(number1) + float(number2)\n",
    "\n",
    "# Display the sum\n",
    "# will print value in float\n",
    "print(\"The sum of {0} and {1} is {2}\" .format(number1, number2, sum))"
   ]
  },
  {
   "cell_type": "code",
   "execution_count": 5,
   "id": "f68d4c4e",
   "metadata": {},
   "outputs": [
    {
     "name": "stdout",
     "output_type": "stream",
     "text": [
      "Sum of 15 and 12 is 27;\n"
     ]
    }
   ],
   "source": [
    "# Python3 program to add two numbers\n",
    "\n",
    "# Driver Code\n",
    "if __name__ == \"__main__\" :\n",
    "\n",
    "    num1 = 15\n",
    "    num2 = 12\n",
    "\n",
    "    # Adding two numbers\n",
    "    sum_twoNum = lambda num1, num2 : num1 + num2\n",
    "\n",
    "    # printing values\n",
    "    print(\"Sum of {0} and {1} is {2};\" .format(num1, num2, sum_twoNum(num1, num2)))"
   ]
  },
  {
   "cell_type": "code",
   "execution_count": 6,
   "id": "295e4e3e",
   "metadata": {},
   "outputs": [
    {
     "name": "stdout",
     "output_type": "stream",
     "text": [
      "15122\n"
     ]
    }
   ],
   "source": [
    "def concatenate_list_data(list):\n",
    "    result=''\n",
    "    for element in list:\n",
    "        result += str(element)\n",
    "    return result\n",
    "print(concatenate_list_data([1,5,12,2]))"
   ]
  },
  {
   "cell_type": "code",
   "execution_count": 9,
   "id": "81f614ac",
   "metadata": {},
   "outputs": [
    {
     "name": "stdout",
     "output_type": "stream",
     "text": [
      "236\n",
      "162\n",
      "104\n",
      "58\n",
      "24\n"
     ]
    }
   ],
   "source": [
    "numbers = [    \n",
    "    386, 462, 47, 418, 907, 344, 236, 375, 823, 566, 597, 978, 328, 615, 953, 345, \n",
    "    399, 162, 758, 219, 918, 237, 412, 566, 826, 248, 866, 950, 626, 949, 687, 217, \n",
    "    815, 67, 104, 58, 512, 24, 892, 894, 767, 553, 81, 379, 843, 831, 445, 742, 717, \n",
    "    958,743, 527\n",
    "    ]\n",
    "for x in numbers:\n",
    "    if x % 2 == 0 and x <= 237:\n",
    "        print(x)\n",
    "    continue"
   ]
  },
  {
   "cell_type": "code",
   "execution_count": 11,
   "id": "638a6f56",
   "metadata": {},
   "outputs": [
    {
     "name": "stdout",
     "output_type": "stream",
     "text": [
      "386\n",
      "462\n",
      "418\n",
      "344\n",
      "236\n",
      "566\n",
      "978\n",
      "328\n",
      "162\n",
      "758\n",
      "918\n",
      "237\n"
     ]
    }
   ],
   "source": [
    "numbers = [    \n",
    "    386, 462, 47, 418, 907, 344, 236, 375, 823, 566, 597, 978, 328, 615, 953, 345, \n",
    "    399, 162, 758, 219, 918, 237, 412, 566, 826, 248, 866, 950, 626, 949, 687, 217, \n",
    "    815, 67, 104, 58, 512, 24, 892, 894, 767, 553, 81, 379, 843, 831, 445, 742, 717, \n",
    "    958,743, 527\n",
    "    ]\n",
    "for x in numbers:\n",
    "    if x == 237:\n",
    "        print(x)\n",
    "        break;\n",
    "    elif x % 2 == 0:\n",
    "        print(x)"
   ]
  },
  {
   "cell_type": "code",
   "execution_count": 12,
   "id": "525182bf",
   "metadata": {},
   "outputs": [
    {
     "name": "stdout",
     "output_type": "stream",
     "text": [
      "Original set elements:\n",
      "{'Red', 'White', 'Black'}\n",
      "{'Red', 'Green'}\n",
      "\n",
      "Differenct of color_List_1 and color_list_2:\n",
      "{'White', 'Black'}\n",
      "\n",
      "Differenct of color_List_1 and color_list_1:\n",
      "{'Green'}\n"
     ]
    }
   ],
   "source": [
    "color_list_1 = set([\"White\", \"Black\", \"Red\"])\n",
    "color_list_2 = set([\"Red\", \"Green\"])\n",
    "print(\"Original set elements:\")\n",
    "print(color_list_1)\n",
    "print(color_list_2)\n",
    "print(\"\\nDifferenct of color_List_1 and color_list_2:\")\n",
    "print(color_list_1.difference(color_list_2))\n",
    "print(\"\\nDifferenct of color_List_1 and color_list_1:\")\n",
    "print(color_list_2.difference(color_list_1))"
   ]
  },
  {
   "cell_type": "code",
   "execution_count": 14,
   "id": "9df0aa50",
   "metadata": {},
   "outputs": [
    {
     "name": "stdout",
     "output_type": "stream",
     "text": [
      "Input the base: 20\n",
      "Input the height: 40\n",
      "area = 400.0\n"
     ]
    }
   ],
   "source": [
    "b = int(input(\"Input the base: \"))\n",
    "h = int(input(\"Input the height: \"))\n",
    "\n",
    "area = b*h/2\n",
    "\n",
    "print(\"area =\", area)"
   ]
  },
  {
   "cell_type": "code",
   "execution_count": 16,
   "id": "0df828b1",
   "metadata": {},
   "outputs": [
    {
     "name": "stdout",
     "output_type": "stream",
     "text": [
      "GCD of 12 & 17 = 1\n",
      "GCD of 4 & 6 = 2\n",
      "GCD of 336 & 360 = 24\n"
     ]
    }
   ],
   "source": [
    "def gcd(x,y):\n",
    "    gcd = 1\n",
    "    if x % y == 0:\n",
    "        return y\n",
    "    for k in range(int(y/2), 0, -1):\n",
    "        if x % k == 0 and y % k == 0:\n",
    "            gcd = k\n",
    "            break\n",
    "    return gcd\n",
    "print(\"GCD of 12 & 17 =\",gcd(12, 17))\n",
    "print(\"GCD of 4 & 6 =\",gcd(4, 6))\n",
    "print(\"GCD of 336 & 360 =\",gcd(336, 360))"
   ]
  },
  {
   "cell_type": "code",
   "execution_count": 19,
   "id": "73f87f74",
   "metadata": {},
   "outputs": [
    {
     "name": "stdout",
     "output_type": "stream",
     "text": [
      "12\n",
      "255\n"
     ]
    }
   ],
   "source": [
    "def lcm(x, y):\n",
    "    if x > y:\n",
    "        z = x\n",
    "    else:\n",
    "        z = y\n",
    "    while(True):\n",
    "        if((z % x == 0) and (z % y == 0)):\n",
    "            lcm = z\n",
    "            break\n",
    "        z += 1\n",
    "    return lcm\n",
    "print(lcm(4, 6))\n",
    "print(lcm(15, 17))"
   ]
  },
  {
   "cell_type": "code",
   "execution_count": 23,
   "id": "9c24b740",
   "metadata": {},
   "outputs": [
    {
     "name": "stdout",
     "output_type": "stream",
     "text": [
      "Please enter number5\n",
      "Please enter number6\n",
      "Please enter number9\n",
      "20\n"
     ]
    }
   ],
   "source": [
    "num1 = int(input(\"Please enter number\"))\n",
    "num2 = int(input(\"Please enter number\"))\n",
    "num3 = int(input(\"Please enter number\"))\n",
    "sum = num1 + num2 + num3\n",
    "num0 = 0\n",
    "if num1 == num2 or num2 == num3 or num3 == num1:\n",
    "    print(\"The answer is: \",num0)\n",
    "else:\n",
    "    print(sum)"
   ]
  },
  {
   "cell_type": "code",
   "execution_count": 24,
   "id": "33e39210",
   "metadata": {},
   "outputs": [
    {
     "name": "stdout",
     "output_type": "stream",
     "text": [
      "0\n",
      "0\n",
      "0\n",
      "6\n"
     ]
    }
   ],
   "source": [
    "def sum_three(x, y, z):\n",
    "    if x == y or y == z or x == z:\n",
    "        sum = 0\n",
    "    else:\n",
    "        sum = x + y + z\n",
    "    return sum\n",
    "print(sum_three(2, 1, 2))\n",
    "print(sum_three(3, 2, 2))\n",
    "print(sum_three(2, 2, 2))\n",
    "print(sum_three(1, 2, 3))"
   ]
  },
  {
   "cell_type": "code",
   "execution_count": 26,
   "id": "9c59b186",
   "metadata": {},
   "outputs": [
    {
     "name": "stdout",
     "output_type": "stream",
     "text": [
      "11\n",
      "20\n",
      "7\n",
      "29\n"
     ]
    }
   ],
   "source": [
    "def sum_two(x,y):\n",
    "    sum = x + y\n",
    "    if sum >= 15 and sum <=20:\n",
    "        return 20\n",
    "    else:\n",
    "        return sum\n",
    "print(sum_two(2, 9))\n",
    "print(sum_two(8, 9))\n",
    "print(sum_two(2, 5))\n",
    "print(sum_two(20, 9))"
   ]
  },
  {
   "cell_type": "code",
   "execution_count": 27,
   "id": "bd5abad5",
   "metadata": {},
   "outputs": [
    {
     "name": "stdout",
     "output_type": "stream",
     "text": [
      "11\n",
      "20\n",
      "7\n",
      "29\n"
     ]
    }
   ],
   "source": [
    "def sum_two(x,y):\n",
    "    sum = x + y\n",
    "    if sum in range (15, 20):\n",
    "        return 20\n",
    "    else:\n",
    "        return sum\n",
    "print(sum_two(2, 9))\n",
    "print(sum_two(8, 9))\n",
    "print(sum_two(2, 5))\n",
    "print(sum_two(20, 9))"
   ]
  },
  {
   "cell_type": "code",
   "execution_count": 30,
   "id": "290d6a7e",
   "metadata": {},
   "outputs": [
    {
     "ename": "SyntaxError",
     "evalue": "invalid syntax (2130193343.py, line 5)",
     "output_type": "error",
     "traceback": [
      "\u001b[1;36m  Input \u001b[1;32mIn [30]\u001b[1;36m\u001b[0m\n\u001b[1;33m    elif sum:\u001b[0m\n\u001b[1;37m    ^\u001b[0m\n\u001b[1;31mSyntaxError\u001b[0m\u001b[1;31m:\u001b[0m invalid syntax\n"
     ]
    }
   ],
   "source": [
    "def interger_two(x, y):\n",
    "    if x == y:\n",
    "        True\n",
    "    sum = x + y\n",
    "    elif sum:\n",
    "        True\n",
    "    difference = x - y\n",
    "    elif dif in range (5):\n",
    "        True\n",
    "    else:\n",
    "        False\n",
    "print(interger_two(5, 7))\n",
    "print(interger_two(10, 15))\n",
    "print(interger_two(18, 19))"
   ]
  },
  {
   "cell_type": "code",
   "execution_count": 32,
   "id": "97003ac8",
   "metadata": {},
   "outputs": [
    {
     "name": "stdout",
     "output_type": "stream",
     "text": [
      "True\n",
      "True\n",
      "True\n",
      "False\n",
      "False\n"
     ]
    }
   ],
   "source": [
    "def test_numbers5(x, y):\n",
    "    if x == y or abs(x-y) == 5 or (x+y) == 5:\n",
    "        return True\n",
    "    else:\n",
    "        return False\n",
    "print(test_numbers5(7, 2))\n",
    "print(test_numbers5(3, 2))\n",
    "print(test_numbers5(2, 2))\n",
    "print(test_numbers5(7, 3))\n",
    "print(test_numbers5(27, 53))"
   ]
  },
  {
   "cell_type": "code",
   "execution_count": 34,
   "id": "72a76bbd",
   "metadata": {},
   "outputs": [
    {
     "name": "stdout",
     "output_type": "stream",
     "text": [
      "30\n",
      "Input must be integers!\n",
      "Input must be integers!\n",
      "Input must be integers!\n"
     ]
    }
   ],
   "source": [
    "def add_numbers(a, b):\n",
    "    if not (isinstance(a, int) and isinstance(b, int)):\n",
    "        return \"Input must be integers!\"\n",
    "    return a + b\n",
    "print(add_numbers(10, 20))\n",
    "print(add_numbers(10, 20.33))\n",
    "print(add_numbers('5', 20))\n",
    "print(add_numbers('5', '6'))"
   ]
  },
  {
   "cell_type": "code",
   "execution_count": 36,
   "id": "4569fefd",
   "metadata": {},
   "outputs": [
    {
     "name": "stdout",
     "output_type": "stream",
     "text": [
      "Please enter your name: Mthokozisi\n",
      "Please enter your age: 50\n",
      "Please enter your address: 47 Forbes street, Ladysmith\n"
     ]
    }
   ],
   "source": [
    "name = str(input(\"Please enter your name: \"))\n",
    "age = int(input(\"Please enter your age: \"))\n",
    "address = str(input(\"Please enter your address: \"))"
   ]
  },
  {
   "cell_type": "code",
   "execution_count": 37,
   "id": "c82c4e74",
   "metadata": {},
   "outputs": [
    {
     "name": "stdout",
     "output_type": "stream",
     "text": [
      "Name: Simon\n",
      "Age: 19\n",
      "Address: 49 Forbes, street, ladysmith\n"
     ]
    }
   ],
   "source": [
    "def personal_details():\n",
    "    name, age = \"Simon\", 19\n",
    "    address = \"49 Forbes, street, ladysmith\"\n",
    "    print(\"Name: {}\\nAge: {}\\nAddress: {}\".format(name, age, address))\n",
    "personal_details()"
   ]
  },
  {
   "cell_type": "code",
   "execution_count": 38,
   "id": "b08aca51",
   "metadata": {},
   "outputs": [
    {
     "name": "stdout",
     "output_type": "stream",
     "text": [
      "(4 + 3) ^ 2) = 49\n"
     ]
    }
   ],
   "source": [
    "x, y = 4, 3\n",
    "result = x * x + 2 * x * y + y * y\n",
    "print(\"({} + {}) ^ 2) = {}\".format(x, y, result))"
   ]
  },
  {
   "cell_type": "code",
   "execution_count": 39,
   "id": "d723fed1",
   "metadata": {},
   "outputs": [
    {
     "name": "stdout",
     "output_type": "stream",
     "text": [
      "1272.28\n"
     ]
    }
   ],
   "source": [
    "amt = 1000\n",
    "int = 3.5\n",
    "years = 7\n",
    "future_value = amt*((1+(0.01*int)) ** years)\n",
    "print(round(future_value,2))"
   ]
  },
  {
   "cell_type": "code",
   "execution_count": 42,
   "id": "4428e25b",
   "metadata": {},
   "outputs": [
    {
     "name": "stdout",
     "output_type": "stream",
     "text": [
      "6.324555320336759\n"
     ]
    }
   ],
   "source": [
    "import math\n",
    "p1 = [4, 0]\n",
    "p2 = [6, 6]\n",
    "distance = math.sqrt(((p1[0]-p2[0])**2)+((p1[1]-p2[1])**2))\n",
    "print(distance)\n"
   ]
  },
  {
   "cell_type": "code",
   "execution_count": 45,
   "id": "7cc8cd53",
   "metadata": {},
   "outputs": [
    {
     "name": "stdout",
     "output_type": "stream",
     "text": [
      "64bit\n",
      "64\n"
     ]
    }
   ],
   "source": [
    "#For 32 bit it will return 32 and for 64 bit it will return 64\n",
    "import platform, struct\n",
    "print(platform.architecture()[0])\n",
    "print(struct.calcsize(\"P\")*8)"
   ]
  },
  {
   "cell_type": "code",
   "execution_count": 46,
   "id": "78529460",
   "metadata": {},
   "outputs": [
    {
     "name": "stdout",
     "output_type": "stream",
     "text": [
      "Name of the operating system:  nt\n",
      "\n",
      "Name of the OS system:  Windows\n",
      "\n",
      "Version of the operating system:  10\n"
     ]
    }
   ],
   "source": [
    "import platform\n",
    "import os\n",
    "print(\"Name of the operating system: \", os.name)\n",
    "print(\"\\nName of the OS system: \",platform.system())\n",
    "print(\"\\nVersion of the operating system: \",platform.release())"
   ]
  },
  {
   "cell_type": "code",
   "execution_count": null,
   "id": "976045f8",
   "metadata": {},
   "outputs": [],
   "source": []
  }
 ],
 "metadata": {
  "kernelspec": {
   "display_name": "Python 3 (ipykernel)",
   "language": "python",
   "name": "python3"
  },
  "language_info": {
   "codemirror_mode": {
    "name": "ipython",
    "version": 3
   },
   "file_extension": ".py",
   "mimetype": "text/x-python",
   "name": "python",
   "nbconvert_exporter": "python",
   "pygments_lexer": "ipython3",
   "version": "3.9.12"
  }
 },
 "nbformat": 4,
 "nbformat_minor": 5
}
