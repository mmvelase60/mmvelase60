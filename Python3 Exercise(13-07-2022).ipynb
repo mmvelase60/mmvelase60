{
 "cells": [
  {
   "cell_type": "code",
   "execution_count": 3,
   "id": "6737dbdb",
   "metadata": {},
   "outputs": [
    {
     "name": "stdout",
     "output_type": "stream",
     "text": [
      "**\n",
      "***\n",
      "******\n",
      "*****\n"
     ]
    }
   ],
   "source": [
    "def histogram(items):\n",
    "    for n in items:\n",
    "        output = ''\n",
    "        times = n\n",
    "        while(times > 0):\n",
    "            output += '*'\n",
    "            times = times - 1\n",
    "        print(output)\n",
    "histogram([2,3,6,5])"
   ]
  },
  {
   "cell_type": "code",
   "execution_count": 5,
   "id": "48ad0c60",
   "metadata": {},
   "outputs": [
    {
     "name": "stdout",
     "output_type": "stream",
     "text": [
      "15122\n"
     ]
    }
   ],
   "source": [
    "def concatenate_list_data(list):\n",
    "    result = ''\n",
    "    for element in list:\n",
    "        result += str(element)\n",
    "    return result\n",
    "print(concatenate_list_data([1,5,12,2]))"
   ]
  },
  {
   "cell_type": "code",
   "execution_count": 6,
   "id": "1fb82a5b",
   "metadata": {},
   "outputs": [
    {
     "name": "stdout",
     "output_type": "stream",
     "text": [
      "Please enter number: 5\n",
      "0\n",
      "1\n",
      "4\n",
      "9\n",
      "16\n"
     ]
    }
   ],
   "source": [
    "if __name__ == '__main__':\n",
    "    n = int(input(\"Please enter number: \"))\n",
    "counter = 0\n",
    "while  counter < n :\n",
    "    print (counter**2)\n",
    "    counter = counter + 1"
   ]
  },
  {
   "cell_type": "code",
   "execution_count": 12,
   "id": "82063a2f",
   "metadata": {},
   "outputs": [
    {
     "name": "stdout",
     "output_type": "stream",
     "text": [
      "6\n",
      "Weird\n"
     ]
    }
   ],
   "source": [
    "if __name__ == '__main__':\n",
    "    n = int(input().strip())\n",
    "if n % 2 == 1:\n",
    "    print(\"Weird\")\n",
    "elif n % 2 == 0 and 2 <= n <= 5:\n",
    "    print(\"Not Weird\")\n",
    "elif n % 2 == 0 and 6 <= n <= 20:\n",
    "    print(\"Weird\")\n",
    "else:\n",
    "    print(\"Not Weird\")\n"
   ]
  },
  {
   "cell_type": "code",
   "execution_count": null,
   "id": "186fbe58",
   "metadata": {},
   "outputs": [],
   "source": []
  }
 ],
 "metadata": {
  "kernelspec": {
   "display_name": "Python 3 (ipykernel)",
   "language": "python",
   "name": "python3"
  },
  "language_info": {
   "codemirror_mode": {
    "name": "ipython",
    "version": 3
   },
   "file_extension": ".py",
   "mimetype": "text/x-python",
   "name": "python",
   "nbconvert_exporter": "python",
   "pygments_lexer": "ipython3",
   "version": "3.9.12"
  }
 },
 "nbformat": 4,
 "nbformat_minor": 5
}
